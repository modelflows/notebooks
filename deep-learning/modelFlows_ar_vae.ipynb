{
  "cells": [
    {
      "cell_type": "markdown",
      "metadata": {
        "id": "view-in-github",
        "colab_type": "text"
      },
      "source": [
        "<a href=\"https://colab.research.google.com/github/modelflows/notebooks/blob/main/deep-learning/modelFlows_ar_vae.ipynb\" target=\"_parent\"><img src=\"https://colab.research.google.com/assets/colab-badge.svg\" alt=\"Open In Colab\"/></a>"
      ]
    },
    {
      "cell_type": "markdown",
      "metadata": {
        "id": "Nc32aV3Xckom"
      },
      "source": [
        "## Autoregressive (AR) Variational Autoencoder (VAE)\n",
        "Official implementation of the AR VAE model to forecast flow dynamics of a laminar flow past a circular cylinder.\n",
        "\n",
        "[R. Abadía-Heredia, A. Corrochano, M. Lopez-Martin and S. Le Clainche. \"Generalization capabilities and robustness of hybrid machine learning models grounded in flow physics compared to purely deep learning models.\" \tarXiv:2404.17884 (2024)](https://doi.org/10.48550/arXiv.2404.17884)\n",
        "\n",
        "**Description**\n",
        "\n",
        "This model, which is based on a variational autoencoder model, approximates the probability distribution behind the forecasting process. Predicted snapshots are sample from the approximated distribution.\n",
        "\n",
        "Given the architecture of the model, it can only be trained on a single velocity component at a time. To apply this model to new datasets, the architecture has to be modified.\n",
        "\n",
        "A GPU is required for a fast training of the VAE model and a minimum system RAM of 51 GB. However, the model can be loaded with weights from a previous successful training, allowing to compute predictions without training. The weights for this model can be found [here](https://drive.google.com/drive/folders/1kgr0hx5jE4cRNe6oLY9Un5xXMan4Nwqn?usp=sharing) under the name `weights_vae_laminar_streamwise.h5` and `weights_vae_laminar_normal.h5`.\n",
        "\n",
        "The key hyperameters are the following:\n",
        "\n",
        "* ```vel_comp``` (str)      -> String defining which velocity component use for training the VAE model. The prediction will be done in the same component. The two options available are: \"streamwise\" or \"wall_normal\".\n",
        "* ```inp_seq``` (int)       -> Number (> 1) of samples that enter as input to the POD-DL model.\n",
        "* ```batch_size``` (int)    -> Number (> 4) of samples that defines the batch size that is used for training.\n",
        "* ```num_preds``` (int)     -> Number (>= 1) of predictions to compute after training.\n",
        "* ```train_size``` (float)  -> Percentage ((0,1)) of dataset to use for training the POD-DL model."
      ]
    },
    {
      "cell_type": "code",
      "execution_count": null,
      "metadata": {
        "id": "UlCpjxFS7OEW"
      },
      "outputs": [],
      "source": [
        "try:\n",
        "  import mat73\n",
        "except:\n",
        "  !pip install -q mat73\n",
        "  import mat73"
      ]
    },
    {
      "cell_type": "code",
      "execution_count": null,
      "metadata": {
        "id": "X8OVS16_NsTs"
      },
      "outputs": [],
      "source": [
        "!pip install -q tensorflow==2.15.0\n",
        "!pip install -q tensorflow-probability==0.23"
      ]
    },
    {
      "cell_type": "code",
      "execution_count": null,
      "metadata": {
        "id": "K4vOFl3FP7Un"
      },
      "outputs": [],
      "source": [
        "import sys\n",
        "import matplotlib\n",
        "import matplotlib.pyplot as plt\n",
        "import numpy as np\n",
        "import time\n",
        "import seaborn as sns\n",
        "\n",
        "from skimage import img_as_float\n",
        "from skimage.metrics import structural_similarity as ssim"
      ]
    },
    {
      "cell_type": "code",
      "execution_count": null,
      "metadata": {
        "id": "-AJY65vWP-Oq"
      },
      "outputs": [],
      "source": [
        "import tensorflow as tf\n",
        "import tensorflow_probability as tfp\n",
        "tfd = tfp.distributions\n",
        "tfpl = tfp.layers\n",
        "tfb = tfp.bijectors\n",
        "\n",
        "#from keras.callbacks import Callback"
      ]
    },
    {
      "cell_type": "code",
      "execution_count": null,
      "metadata": {
        "id": "JwfGc6VfQACi"
      },
      "outputs": [],
      "source": [
        "from tensorflow.keras.models import Model, Sequential\n",
        "from tensorflow.keras.layers import Dense, LSTM, Conv2D, ConvLSTM2D, Conv2DTranspose, Flatten, Reshape, LeakyReLU, ReLU, Input\n",
        "from tensorflow.keras.layers import MaxPool2D, AveragePooling2D, UpSampling2D, TimeDistributed, LayerNormalization\n",
        "from tensorflow.keras.layers import Dropout, BatchNormalization"
      ]
    },
    {
      "cell_type": "code",
      "execution_count": null,
      "metadata": {
        "id": "qwabC72Hao53"
      },
      "outputs": [],
      "source": [
        "font = {'size'   : 18}\n",
        "\n",
        "matplotlib.rc('font', **font)"
      ]
    },
    {
      "cell_type": "code",
      "execution_count": null,
      "metadata": {
        "id": "nfLK90K1vIZg"
      },
      "outputs": [],
      "source": [
        "seed = 98374598\n",
        "tf.random.set_seed(seed)\n",
        "np.random.seed(seed)"
      ]
    },
    {
      "cell_type": "markdown",
      "metadata": {
        "id": "u75_-vcVfAO_"
      },
      "source": [
        "# Hyperparameters"
      ]
    },
    {
      "cell_type": "code",
      "execution_count": null,
      "metadata": {
        "id": "IFe_I78IfBud"
      },
      "outputs": [],
      "source": [
        "vel_comp    = \"streamwise\" # streamwise or wall_normal\n",
        "inp_seq     = 10\n",
        "batch_size  = 8\n",
        "num_preds   = 200\n",
        "train_size  = 0.6"
      ]
    },
    {
      "cell_type": "markdown",
      "metadata": {
        "id": "-WJnbtZoQES5"
      },
      "source": [
        "# Load Data"
      ]
    },
    {
      "cell_type": "code",
      "execution_count": null,
      "metadata": {
        "id": "tJlhxOOE7ATQ"
      },
      "outputs": [],
      "source": [
        "data_dict = mat73.loadmat('DATA/dataset_laminar.mat')\n",
        "Ten_orig = data_dict['Tensor'][:,:,:,:,100:]"
      ]
    },
    {
      "cell_type": "markdown",
      "metadata": {
        "id": "hAobCHXSQMmr"
      },
      "source": [
        "# Data Split"
      ]
    },
    {
      "cell_type": "code",
      "execution_count": null,
      "metadata": {
        "colab": {
          "base_uri": "https://localhost:8080/"
        },
        "id": "UfxF7ppjQM-C",
        "outputId": "0328c703-daf5-43a0-e3f5-2f33a26f8632"
      },
      "outputs": [
        {
          "name": "stdout",
          "output_type": "stream",
          "text": [
            "Train set shape: (299, 100, 40, 64, 1)\n",
            "Dev set shape: (25, 100, 40, 64, 1)\n",
            "Test set shape: (175, 100, 40, 64, 1)\n"
          ]
        }
      ],
      "source": [
        "if (vel_comp == \"streamwise\"):\n",
        "    # Streamwise velocity\n",
        "    train_set = np.copy(Ten_orig[0:1,...,:int(train_size * Ten_orig.shape[-1])])\n",
        "    dev_set = np.copy(Ten_orig[0:1,...,int(train_size * Ten_orig.shape[-1]):int((train_size + 0.05) * Ten_orig.shape[-1])])\n",
        "    test_set = np.copy(Ten_orig[0:1,...,int((train_size + 0.05) * Ten_orig.shape[-1]):])\n",
        "\n",
        "elif (vel_comp == \"wall_normal\"):\n",
        "    # Wall-normal velocity\n",
        "    train_set = np.copy(Ten_orig[1:2,...,:int(train_size * Ten_orig.shape[-1])])\n",
        "    dev_set = np.copy(Ten_orig[1:2,...,int(train_size * Ten_orig.shape[-1]):int((train_size + 0.05) * Ten_orig.shape[-1])])\n",
        "    test_set = np.copy(Ten_orig[1:2,...,int((train_size + 0.05) * Ten_orig.shape[-1]):])\n",
        "\n",
        "else:\n",
        "    raise TypeError(\"vel_comp has to be streamwise or wall_normal\")\n",
        "\n",
        "# Scailing between 0 and 1\n",
        "ten_min = np.amin(train_set)\n",
        "ten_range = np.ptp(train_set)\n",
        "\n",
        "# ten_min = np.mean(train_set, axis = -1)[..., None]\n",
        "# ten_range = np.std(train_set)\n",
        "\n",
        "train_set = (train_set - ten_min) / ten_range\n",
        "dev_set = (dev_set - ten_min) / ten_range\n",
        "test_set = (test_set - ten_min) / ten_range\n",
        "\n",
        "# Channels last, time first\n",
        "train_set = np.transpose(train_set, [4,1,2,3,0])\n",
        "dev_set = np.transpose(dev_set, [4,1,2,3,0])\n",
        "test_set = np.transpose(test_set, [4,1,2,3,0])\n",
        "\n",
        "print(f\"Train set shape: {train_set.shape}\")\n",
        "print(f\"Dev set shape: {dev_set.shape}\")\n",
        "print(f\"Test set shape: {test_set.shape}\")"
      ]
    },
    {
      "cell_type": "markdown",
      "metadata": {
        "id": "EfV0ag0LQQF0"
      },
      "source": [
        "# Data Windowing"
      ]
    },
    {
      "cell_type": "code",
      "execution_count": null,
      "metadata": {
        "id": "hmW6SgCoQVgx"
      },
      "outputs": [],
      "source": [
        "class WindowGenerator():\n",
        "    def __init__(self, input_width, label_width, shift, samplingRate, batch_size,\n",
        "            train_df=train_set, val_df=dev_set, test_df=test_set):\n",
        "\n",
        "        # Store the raw data.\n",
        "        self.train_df = train_df\n",
        "        self.val_df = val_df\n",
        "        self.test_df = test_df\n",
        "        self.batch_size = batch_size\n",
        "        self.sampling_rate = samplingRate\n",
        "\n",
        "        # Work out the window parameters.\n",
        "        self.input_width = input_width\n",
        "        self.label_width = label_width\n",
        "        self.shift = shift\n",
        "\n",
        "        self.total_window_size = input_width + shift\n",
        "\n",
        "        self.input_slice = slice(0, input_width)\n",
        "        self.input_indices = np.arange(self.total_window_size)[self.input_slice]\n",
        "\n",
        "        self.label_start = self.total_window_size - self.label_width\n",
        "        self.labels_slice = slice(self.label_start, None)\n",
        "        self.label_indices = np.arange(self.total_window_size)[self.labels_slice]\n",
        "\n",
        "    def __repr__(self):\n",
        "        return '\\n'.join([\n",
        "            f'Total window size: {self.total_window_size}',\n",
        "            f'Input indices: {self.input_indices}',\n",
        "            f'Label indices: {self.label_indices}'])\n",
        "\n",
        "def split_window(self, features):\n",
        "    inputs = features[:, self.input_slice, ...]\n",
        "    labels = features[:, self.labels_slice, ...]\n",
        "\n",
        "    # Slicing doesn't preserve static shape information, so set the shapes\n",
        "    # manually. This way the `tf.data.Datasets` are easier to inspect.\n",
        "    inputs.set_shape([None, self.input_width, None, None, None])\n",
        "    labels.set_shape([None, self.label_width, None, None, None])\n",
        "\n",
        "    return inputs, labels\n",
        "\n",
        "WindowGenerator.split_window = split_window\n",
        "\n",
        "def make_dataset(self, data, state):\n",
        "    data = np.array(data, dtype=np.float32)\n",
        "    if (state == \"training\"):\n",
        "        ds = tf.keras.preprocessing.timeseries_dataset_from_array(\n",
        "            data = data,\n",
        "            targets = None,\n",
        "            sequence_length = self.total_window_size,\n",
        "            sequence_stride = 1,\n",
        "            sampling_rate = self.sampling_rate,\n",
        "            shuffle = True,\n",
        "            batch_size = self.batch_size)\n",
        "\n",
        "    else:\n",
        "        ds = tf.keras.preprocessing.timeseries_dataset_from_array(\n",
        "            data = data,\n",
        "            targets = None,\n",
        "            sequence_length = self.total_window_size,\n",
        "            sequence_stride = 1,\n",
        "            sampling_rate = self.sampling_rate,\n",
        "            shuffle = False,\n",
        "            batch_size = self.batch_size)\n",
        "\n",
        "    ds = ds.map(self.split_window)\n",
        "\n",
        "    return ds\n",
        "\n",
        "WindowGenerator.make_dataset = make_dataset\n",
        "\n",
        "@property\n",
        "def train(self, state = \"training\"):\n",
        "    return self.make_dataset(self.train_df, state)\n",
        "\n",
        "@property\n",
        "def val(self, state = \"not_training\"):\n",
        "    return self.make_dataset(self.val_df, state)\n",
        "\n",
        "@property\n",
        "def test(self, state = \"not_training\"):\n",
        "    return self.make_dataset(self.test_df, state)\n",
        "\n",
        "WindowGenerator.train = train\n",
        "WindowGenerator.val = val\n",
        "WindowGenerator.test = test"
      ]
    },
    {
      "cell_type": "code",
      "execution_count": null,
      "metadata": {
        "id": "9sRFMG2jQWJQ"
      },
      "outputs": [],
      "source": [
        "def window_generator(inputWidth):\n",
        "\n",
        "  labelWidth=1\n",
        "  shift=1\n",
        "\n",
        "  w1 = WindowGenerator(input_width = inputWidth, label_width = labelWidth,\n",
        "                      shift = shift, samplingRate = 1, batch_size = batch_size,\n",
        "                      train_df = train_set[:,:,:,0,:], val_df = dev_set[:,:,:,0,:],\n",
        "                       test_df = test_set[:,:,:,0,:])\n",
        "\n",
        "  w_train = w1.train\n",
        "  w_val = w1.val\n",
        "\n",
        "  for i in range(1,Ten_orig.shape[-2]):\n",
        "    w2 = WindowGenerator(input_width = inputWidth, label_width = labelWidth,\n",
        "                      shift = shift, samplingRate = 1, batch_size = batch_size,\n",
        "                      train_df = train_set[:,:,:,i,:], val_df = dev_set[:,:,:,i,:],\n",
        "                      test_df = test_set[:,:,:,i,:])\n",
        "\n",
        "    w_train = w_train.concatenate(w2.train)\n",
        "    w_val = w_val.concatenate(w2.val)\n",
        "\n",
        "  del w1, w2\n",
        "\n",
        "  return w_train, w_val"
      ]
    },
    {
      "cell_type": "code",
      "execution_count": null,
      "metadata": {
        "id": "lFm8ZtmsxMOy"
      },
      "outputs": [],
      "source": [
        "w_train, w_val = window_generator(inp_seq)"
      ]
    },
    {
      "cell_type": "code",
      "execution_count": null,
      "metadata": {
        "colab": {
          "base_uri": "https://localhost:8080/",
          "height": 539
        },
        "id": "Y8wC3ieSx2v6",
        "outputId": "c026ed3f-e0e3-4837-f79b-de3f3bb05abe"
      },
      "outputs": [
        {
          "name": "stdout",
          "output_type": "stream",
          "text": [
            "Number of training batches: 2368\n",
            "\n",
            "Inputs shape (batch size, time, features): (8, 10, 100, 40, 1)\n",
            "Labels shape (batch size, time, features): (8, 1, 100, 40, 1)\n"
          ]
        },
        {
          "data": {
            "text/plain": [
              "<matplotlib.colorbar.Colorbar at 0x7e26b342ab10>"
            ]
          },
          "execution_count": 18,
          "metadata": {},
          "output_type": "execute_result"
        },
        {
          "data": {
            "image/png": "[encoded data removed]",
            "text/plain": [
              "<Figure size 640x480 with 2 Axes>"
            ]
          },
          "metadata": {},
          "output_type": "display_data"
        }
      ],
      "source": [
        "print(f\"Number of training batches: {len(w_train)}\")\n",
        "\n",
        "for example_inputs, example_labels in w_train.take(1):\n",
        "  in_shape = (example_inputs.shape[1], example_inputs.shape[2], example_inputs.shape[3], example_inputs.shape[4])\n",
        "  print(f'\\nInputs shape (batch size, time, features): {example_inputs.shape}')\n",
        "  print(f'Labels shape (batch size, time, features): {example_labels.shape}')\n",
        "\n",
        "plt.close('all')\n",
        "plt.contourf(example_inputs[0,0,:,:,0])\n",
        "plt.colorbar()"
      ]
    },
    {
      "cell_type": "markdown",
      "metadata": {
        "id": "-e8pdj0ph-Zg"
      },
      "source": [
        "# VAE"
      ]
    },
    {
      "cell_type": "markdown",
      "metadata": {
        "id": "l3J2EOx1OZYv"
      },
      "source": [
        "## KL divergence"
      ]
    },
    {
      "cell_type": "code",
      "execution_count": null,
      "metadata": {
        "id": "NjMhtzHeGQoP"
      },
      "outputs": [],
      "source": [
        "def get_kl_regularizer(latent_dim):\n",
        "  \"\"\"\n",
        "  The prior of latent variables is considered a standard Normal distribution.\n",
        "  Therefore this function creates the KLDivergenceRegularizer that will be used\n",
        "  in the ELBO.\n",
        "  \"\"\"\n",
        "\n",
        "  return tfpl.KLDivergenceRegularizer(\n",
        "      tfd.MultivariateNormalDiag(loc = tf.zeros(latent_dim),\n",
        "                                 scale_diag = tf.ones(latent_dim)),\n",
        "      use_exact_kl = False,\n",
        "      test_points_fn = lambda q: q.sample(30),\n",
        "      weight = 1.0,\n",
        "      test_points_reduce_axis = None)"
      ]
    },
    {
      "cell_type": "markdown",
      "metadata": {
        "id": "rm5nYKSQQc0d"
      },
      "source": [
        "## Inference"
      ]
    },
    {
      "cell_type": "code",
      "execution_count": null,
      "metadata": {
        "id": "OjD43FSX2Hgf"
      },
      "outputs": [],
      "source": [
        "tf.keras.backend.clear_session()"
      ]
    },
    {
      "cell_type": "code",
      "execution_count": null,
      "metadata": {
        "id": "x3vg24udPrTN"
      },
      "outputs": [],
      "source": [
        "def get_encoder(latent_dim, in_shape, kl_regularizer):\n",
        "\n",
        "  model = Sequential([\n",
        "      Input(shape = in_shape),\n",
        "\n",
        "      Conv2D(filters=8, kernel_size=7, strides=1, padding='valid',\n",
        "             data_format='channels_last', kernel_initializer='he_uniform'),\n",
        "      ReLU(),\n",
        "      LayerNormalization(),\n",
        "\n",
        "      Conv2D(filters=16, kernel_size=3, strides=2, padding='valid',\n",
        "             data_format='channels_last', kernel_initializer='he_uniform'),\n",
        "      ReLU(),\n",
        "      LayerNormalization(),\n",
        "\n",
        "      Conv2D(filters=32, kernel_size=3, strides=(2,1), padding='valid',\n",
        "             data_format='channels_last', kernel_initializer='he_uniform'),\n",
        "      ReLU(),\n",
        "      LayerNormalization(),\n",
        "\n",
        "      ConvLSTM2D(64, (3, 3), strides = (2,1), padding=\"same\",\n",
        "                 return_sequences=False, data_format='channels_last'),\n",
        "      LayerNormalization(),\n",
        "\n",
        "      Flatten(),\n",
        "      Dense(tfpl.MultivariateNormalTriL.params_size(latent_dim), activation=None),\n",
        "\n",
        "      tfpl.MultivariateNormalTriL(latent_dim,\n",
        "        convert_to_tensor_fn = tfp.distributions.Distribution.sample,\n",
        "        activity_regularizer = kl_regularizer)\n",
        "\n",
        "  ], name='encoder')\n",
        "\n",
        "  return model"
      ]
    },
    {
      "cell_type": "markdown",
      "metadata": {
        "id": "gfi1--0MnDr1"
      },
      "source": [
        "## Generation"
      ]
    },
    {
      "cell_type": "code",
      "execution_count": null,
      "metadata": {
        "id": "kubmGpYkWcM4"
      },
      "outputs": [],
      "source": [
        "def get_decoder(latent_dim, num_kernels):\n",
        "\n",
        "  inputs = Input(shape=(latent_dim,))\n",
        "\n",
        "  x = Dense(units=9856, activation='relu',\n",
        "            kernel_initializer='he_uniform')(inputs)\n",
        "  x = Reshape((11,14,64))(x)\n",
        "\n",
        "  x = Conv2DTranspose(filters=64, kernel_size=3, strides=(2,1), padding='valid',\n",
        "                      data_format='channels_last', activation='relu',\n",
        "                      kernel_initializer='he_uniform')(x)\n",
        "  x = ReLU()(x)\n",
        "  x = tf.keras.layers.LayerNormalization()(x)\n",
        "\n",
        "  x_probs = Flatten()(x)\n",
        "  x_probs = Dense(num_kernels, activation='softmax')(x_probs)\n",
        "\n",
        "  x = Conv2DTranspose(filters=32, kernel_size=3, strides=(2,1), padding='valid',\n",
        "                      data_format='channels_last', activation='relu',\n",
        "                      kernel_initializer='he_uniform')(x)\n",
        "  x = ReLU()(x)\n",
        "  x = tf.keras.layers.LayerNormalization()(x)\n",
        "\n",
        "  x = Conv2DTranspose(filters=16, kernel_size=(4,3), strides=2, padding='valid',\n",
        "                      data_format='channels_last', activation='relu',\n",
        "                      kernel_initializer='he_uniform')(x)\n",
        "  x = ReLU()(x)\n",
        "  x = tf.keras.layers.LayerNormalization()(x)\n",
        "\n",
        "  x = Conv2DTranspose(filters=8, kernel_size=(5,4), strides=1, padding='valid',\n",
        "                      data_format='channels_last', activation='relu',\n",
        "                      kernel_initializer='he_uniform')(x)\n",
        "  x = ReLU()(x)\n",
        "  x = tf.keras.layers.LayerNormalization()(x)\n",
        "\n",
        "\n",
        "\n",
        "  x = Conv2D(filters=2*num_kernels, kernel_size=1, strides=1, activation=None,\n",
        "             padding='valid', data_format='channels_last')(x)\n",
        "  x = tf.transpose(x, perm = [0,3,1,2])\n",
        "\n",
        "  x = [x_probs, x]\n",
        "\n",
        "  outputs = tfpl.DistributionLambda(\n",
        "    lambda t: tfd.MixtureSameFamily(\n",
        "        mixture_distribution = tfd.Categorical(probs=t[0]),\n",
        "        components_distribution = tfd.Independent(\n",
        "            tfd.MultivariateNormalDiag(loc=t[1][:,:num_kernels,...],\n",
        "                                       scale_diag=tf.nn.softplus(t[1][:,num_kernels:,...])\n",
        "                                       ),\n",
        "                                       reinterpreted_batch_ndims=1\n",
        "            )\n",
        "        )\n",
        "    )(x)\n",
        "\n",
        "  return Model(inputs=inputs, outputs=outputs, name='decoder')"
      ]
    },
    {
      "cell_type": "markdown",
      "metadata": {
        "id": "HWmtoNr9nHe9"
      },
      "source": [
        "## Variational Autoencoder"
      ]
    },
    {
      "cell_type": "code",
      "execution_count": null,
      "metadata": {
        "id": "Ioaz3hJXnNWC"
      },
      "outputs": [],
      "source": [
        "tf.keras.backend.clear_session()\n",
        "\n",
        "latent_dim = 25\n",
        "\n",
        "num_kernels_dec = 15\n",
        "\n",
        "kl_regularizer = get_kl_regularizer(latent_dim)\n",
        "\n",
        "encoder = get_encoder(latent_dim, in_shape, kl_regularizer)\n",
        "\n",
        "decoder = get_decoder(latent_dim, num_kernels_dec)\n",
        "\n",
        "vae = Model(inputs=encoder.inputs, outputs=decoder(encoder.outputs))"
      ]
    },
    {
      "cell_type": "code",
      "execution_count": null,
      "metadata": {
        "colab": {
          "base_uri": "https://localhost:8080/"
        },
        "id": "23u_soUnn-aX",
        "outputId": "6d809279-7fdd-4019-8ded-a2cefa93b8e0"
      },
      "outputs": [
        {
          "name": "stdout",
          "output_type": "stream",
          "text": [
            "Model: \"encoder\"\n",
            "_________________________________________________________________\n",
            " Layer (type)                Output Shape              Param #   \n",
            "=================================================================\n",
            " conv2d (Conv2D)             (None, 10, 94, 34, 8)     400       \n",
            "                                                                 \n",
            " re_lu (ReLU)                (None, 10, 94, 34, 8)     0         \n",
            "                                                                 \n",
            " layer_normalization (Layer  (None, 10, 94, 34, 8)     16        \n",
            " Normalization)                                                  \n",
            "                                                                 \n",
            " conv2d_1 (Conv2D)           (None, 10, 46, 16, 16)    1168      \n",
            "                                                                 \n",
            " re_lu_1 (ReLU)              (None, 10, 46, 16, 16)    0         \n",
            "                                                                 \n",
            " layer_normalization_1 (Lay  (None, 10, 46, 16, 16)    32        \n",
            " erNormalization)                                                \n",
            "                                                                 \n",
            " conv2d_2 (Conv2D)           (None, 10, 22, 14, 32)    4640      \n",
            "                                                                 \n",
            " re_lu_2 (ReLU)              (None, 10, 22, 14, 32)    0         \n",
            "                                                                 \n",
            " layer_normalization_2 (Lay  (None, 10, 22, 14, 32)    64        \n",
            " erNormalization)                                                \n",
            "                                                                 \n",
            " conv_lstm2d (ConvLSTM2D)    (None, 11, 14, 64)        221440    \n",
            "                                                                 \n",
            " layer_normalization_3 (Lay  (None, 11, 14, 64)        128       \n",
            " erNormalization)                                                \n",
            "                                                                 \n",
            " flatten (Flatten)           (None, 9856)              0         \n",
            "                                                                 \n",
            " dense (Dense)               (None, 350)               3449950   \n",
            "                                                                 \n",
            " multivariate_normal_tri_l   ((None, 25),              0         \n",
            " (MultivariateNormalTriL)     (None, 25))                        \n",
            "                                                                 \n",
            "=================================================================\n",
            "Total params: 3677838 (14.03 MB)\n",
            "Trainable params: 3677838 (14.03 MB)\n",
            "Non-trainable params: 0 (0.00 Byte)\n",
            "_________________________________________________________________\n"
          ]
        }
      ],
      "source": [
        "encoder.summary()"
      ]
    },
    {
      "cell_type": "code",
      "execution_count": null,
      "metadata": {
        "colab": {
          "base_uri": "https://localhost:8080/"
        },
        "id": "yYsisnD9oBv5",
        "outputId": "7c3a3a03-bbd6-4626-e2eb-f61aacdfb1ac"
      },
      "outputs": [
        {
          "name": "stdout",
          "output_type": "stream",
          "text": [
            "Model: \"decoder\"\n",
            "__________________________________________________________________________________________________\n",
            " Layer (type)                Output Shape                 Param #   Connected to                  \n",
            "==================================================================================================\n",
            " input_2 (InputLayer)        [(None, 25)]                 0         []                            \n",
            "                                                                                                  \n",
            " dense_1 (Dense)             (None, 9856)                 256256    ['input_2[0][0]']             \n",
            "                                                                                                  \n",
            " reshape (Reshape)           (None, 11, 14, 64)           0         ['dense_1[0][0]']             \n",
            "                                                                                                  \n",
            " conv2d_transpose (Conv2DTr  (None, 23, 16, 64)           36928     ['reshape[0][0]']             \n",
            " anspose)                                                                                         \n",
            "                                                                                                  \n",
            " re_lu_3 (ReLU)              (None, 23, 16, 64)           0         ['conv2d_transpose[0][0]']    \n",
            "                                                                                                  \n",
            " layer_normalization_4 (Lay  (None, 23, 16, 64)           128       ['re_lu_3[0][0]']             \n",
            " erNormalization)                                                                                 \n",
            "                                                                                                  \n",
            " conv2d_transpose_1 (Conv2D  (None, 47, 18, 32)           18464     ['layer_normalization_4[0][0]'\n",
            " Transpose)                                                         ]                             \n",
            "                                                                                                  \n",
            " re_lu_4 (ReLU)              (None, 47, 18, 32)           0         ['conv2d_transpose_1[0][0]']  \n",
            "                                                                                                  \n",
            " layer_normalization_5 (Lay  (None, 47, 18, 32)           64        ['re_lu_4[0][0]']             \n",
            " erNormalization)                                                                                 \n",
            "                                                                                                  \n",
            " conv2d_transpose_2 (Conv2D  (None, 96, 37, 16)           6160      ['layer_normalization_5[0][0]'\n",
            " Transpose)                                                         ]                             \n",
            "                                                                                                  \n",
            " re_lu_5 (ReLU)              (None, 96, 37, 16)           0         ['conv2d_transpose_2[0][0]']  \n",
            "                                                                                                  \n",
            " layer_normalization_6 (Lay  (None, 96, 37, 16)           32        ['re_lu_5[0][0]']             \n",
            " erNormalization)                                                                                 \n",
            "                                                                                                  \n",
            " conv2d_transpose_3 (Conv2D  (None, 100, 40, 8)           2568      ['layer_normalization_6[0][0]'\n",
            " Transpose)                                                         ]                             \n",
            "                                                                                                  \n",
            " re_lu_6 (ReLU)              (None, 100, 40, 8)           0         ['conv2d_transpose_3[0][0]']  \n",
            "                                                                                                  \n",
            " layer_normalization_7 (Lay  (None, 100, 40, 8)           16        ['re_lu_6[0][0]']             \n",
            " erNormalization)                                                                                 \n",
            "                                                                                                  \n",
            " flatten_1 (Flatten)         (None, 23552)                0         ['layer_normalization_4[0][0]'\n",
            "                                                                    ]                             \n",
            "                                                                                                  \n",
            " conv2d_3 (Conv2D)           (None, 100, 40, 30)          270       ['layer_normalization_7[0][0]'\n",
            "                                                                    ]                             \n",
            "                                                                                                  \n",
            " dense_2 (Dense)             (None, 15)                   353295    ['flatten_1[0][0]']           \n",
            "                                                                                                  \n",
            " tf.compat.v1.transpose (TF  (None, 30, 100, 40)          0         ['conv2d_3[0][0]']            \n",
            " OpLambda)                                                                                        \n",
            "                                                                                                  \n",
            " distribution_lambda (Distr  ((None, 100, 40),            0         ['dense_2[0][0]',             \n",
            " ibutionLambda)               (None, 100, 40))                       'tf.compat.v1.transpose[0][0]\n",
            "                                                                    ']                            \n",
            "                                                                                                  \n",
            "==================================================================================================\n",
            "Total params: 674181 (2.57 MB)\n",
            "Trainable params: 674181 (2.57 MB)\n",
            "Non-trainable params: 0 (0.00 Byte)\n",
            "__________________________________________________________________________________________________\n"
          ]
        }
      ],
      "source": [
        "decoder.summary()"
      ]
    },
    {
      "cell_type": "code",
      "execution_count": null,
      "metadata": {
        "colab": {
          "base_uri": "https://localhost:8080/"
        },
        "id": "Oj_-1AtDnvWA",
        "outputId": "a0fb66c8-bab0-4558-ec4e-6ed6542196e0"
      },
      "outputs": [
        {
          "name": "stdout",
          "output_type": "stream",
          "text": [
            "Model: \"model\"\n",
            "_________________________________________________________________\n",
            " Layer (type)                Output Shape              Param #   \n",
            "=================================================================\n",
            " input_1 (InputLayer)        [(None, 10, 100, 40, 1)   0         \n",
            "                             ]                                   \n",
            "                                                                 \n",
            " conv2d (Conv2D)             (None, 10, 94, 34, 8)     400       \n",
            "                                                                 \n",
            " re_lu (ReLU)                (None, 10, 94, 34, 8)     0         \n",
            "                                                                 \n",
            " layer_normalization (Layer  (None, 10, 94, 34, 8)     16        \n",
            " Normalization)                                                  \n",
            "                                                                 \n",
            " conv2d_1 (Conv2D)           (None, 10, 46, 16, 16)    1168      \n",
            "                                                                 \n",
            " re_lu_1 (ReLU)              (None, 10, 46, 16, 16)    0         \n",
            "                                                                 \n",
            " layer_normalization_1 (Lay  (None, 10, 46, 16, 16)    32        \n",
            " erNormalization)                                                \n",
            "                                                                 \n",
            " conv2d_2 (Conv2D)           (None, 10, 22, 14, 32)    4640      \n",
            "                                                                 \n",
            " re_lu_2 (ReLU)              (None, 10, 22, 14, 32)    0         \n",
            "                                                                 \n",
            " layer_normalization_2 (Lay  (None, 10, 22, 14, 32)    64        \n",
            " erNormalization)                                                \n",
            "                                                                 \n",
            " conv_lstm2d (ConvLSTM2D)    (None, 11, 14, 64)        221440    \n",
            "                                                                 \n",
            " layer_normalization_3 (Lay  (None, 11, 14, 64)        128       \n",
            " erNormalization)                                                \n",
            "                                                                 \n",
            " flatten (Flatten)           (None, 9856)              0         \n",
            "                                                                 \n",
            " dense (Dense)               (None, 350)               3449950   \n",
            "                                                                 \n",
            " multivariate_normal_tri_l   ((None, 25),              0         \n",
            " (MultivariateNormalTriL)     (None, 25))                        \n",
            "                                                                 \n",
            " decoder (Functional)        (None, 100, 40)           674181    \n",
            "                                                                 \n",
            "=================================================================\n",
            "Total params: 4352019 (16.60 MB)\n",
            "Trainable params: 4352019 (16.60 MB)\n",
            "Non-trainable params: 0 (0.00 Byte)\n",
            "_________________________________________________________________\n"
          ]
        }
      ],
      "source": [
        "vae.summary()"
      ]
    },
    {
      "cell_type": "markdown",
      "metadata": {
        "id": "8hACJU1zoMN3"
      },
      "source": [
        "## Loss Function"
      ]
    },
    {
      "cell_type": "code",
      "execution_count": null,
      "metadata": {
        "id": "ExnpmWNloPhx"
      },
      "outputs": [],
      "source": [
        "def reconstruction_loss(target_modes, var_posterior):\n",
        "    \"\"\"\n",
        "    This function defines the loss function. Note that only the log likelihood\n",
        "    is implemented, because the KL term is already included in the encoder.\n",
        "    \"\"\"\n",
        "\n",
        "    return(-tf.reduce_mean(var_posterior.log_prob(tf.squeeze(target_modes))))"
      ]
    },
    {
      "cell_type": "markdown",
      "metadata": {
        "id": "2PNr9E7ToQBG"
      },
      "source": [
        "# Training (IF the model was not previously trained)"
      ]
    },
    {
      "cell_type": "code",
      "execution_count": null,
      "metadata": {
        "id": "ZWywenNeoTE2"
      },
      "outputs": [],
      "source": [
        "optimizer = tf.keras.optimizers.Adam(learning_rate = 0.00005)\n",
        "vae.compile(optimizer = optimizer, loss = reconstruction_loss)"
      ]
    },
    {
      "cell_type": "code",
      "execution_count": null,
      "metadata": {
        "colab": {
          "base_uri": "https://localhost:8080/",
          "height": 420
        },
        "id": "RpnISyBkoT5O",
        "outputId": "93f780b4-4056-417a-c3b6-b618d665074c"
      },
      "outputs": [
        {
          "name": "stdout",
          "output_type": "stream",
          "text": [
            "Epoch 1/30\n",
            "  53/2368 [..............................] - ETA: 9:08 - loss: 3642.4805"
          ]
        },
        {
          "ename": "KeyboardInterrupt",
          "evalue": "",
          "output_type": "error",
          "traceback": [
            "\u001b[0;31m---------------------------------------------------------------------------\u001b[0m",
            "\u001b[0;31mKeyboardInterrupt\u001b[0m                         Traceback (most recent call last)",
            "\u001b[0;32m<ipython-input-35-f890959cac25>\u001b[0m in \u001b[0;36m<cell line: 0>\u001b[0;34m()\u001b[0m\n\u001b[1;32m      1\u001b[0m \u001b[0mt0\u001b[0m \u001b[0;34m=\u001b[0m \u001b[0mtime\u001b[0m\u001b[0;34m.\u001b[0m\u001b[0mtime\u001b[0m\u001b[0;34m(\u001b[0m\u001b[0;34m)\u001b[0m\u001b[0;34m\u001b[0m\u001b[0;34m\u001b[0m\u001b[0m\n\u001b[1;32m      2\u001b[0m \u001b[0;34m\u001b[0m\u001b[0m\n\u001b[0;32m----> 3\u001b[0;31m \u001b[0mhistory\u001b[0m \u001b[0;34m=\u001b[0m \u001b[0mvae\u001b[0m\u001b[0;34m.\u001b[0m\u001b[0mfit\u001b[0m\u001b[0;34m(\u001b[0m\u001b[0mw_train\u001b[0m\u001b[0;34m,\u001b[0m \u001b[0mvalidation_data\u001b[0m \u001b[0;34m=\u001b[0m \u001b[0mw_val\u001b[0m\u001b[0;34m,\u001b[0m \u001b[0mepochs\u001b[0m \u001b[0;34m=\u001b[0m \u001b[0;36m30\u001b[0m\u001b[0;34m)\u001b[0m \u001b[0;31m# 20\u001b[0m\u001b[0;34m\u001b[0m\u001b[0;34m\u001b[0m\u001b[0m\n\u001b[0m\u001b[1;32m      4\u001b[0m \u001b[0;34m\u001b[0m\u001b[0m\n\u001b[1;32m      5\u001b[0m \u001b[0mt1\u001b[0m \u001b[0;34m=\u001b[0m \u001b[0mtime\u001b[0m\u001b[0;34m.\u001b[0m\u001b[0mtime\u001b[0m\u001b[0;34m(\u001b[0m\u001b[0;34m)\u001b[0m\u001b[0;34m\u001b[0m\u001b[0;34m\u001b[0m\u001b[0m\n",
            "\u001b[0;32m/usr/local/lib/python3.11/dist-packages/keras/src/utils/traceback_utils.py\u001b[0m in \u001b[0;36merror_handler\u001b[0;34m(*args, **kwargs)\u001b[0m\n\u001b[1;32m     63\u001b[0m         \u001b[0mfiltered_tb\u001b[0m \u001b[0;34m=\u001b[0m \u001b[0;32mNone\u001b[0m\u001b[0;34m\u001b[0m\u001b[0;34m\u001b[0m\u001b[0m\n\u001b[1;32m     64\u001b[0m         \u001b[0;32mtry\u001b[0m\u001b[0;34m:\u001b[0m\u001b[0;34m\u001b[0m\u001b[0;34m\u001b[0m\u001b[0m\n\u001b[0;32m---> 65\u001b[0;31m             \u001b[0;32mreturn\u001b[0m \u001b[0mfn\u001b[0m\u001b[0;34m(\u001b[0m\u001b[0;34m*\u001b[0m\u001b[0margs\u001b[0m\u001b[0;34m,\u001b[0m \u001b[0;34m**\u001b[0m\u001b[0mkwargs\u001b[0m\u001b[0;34m)\u001b[0m\u001b[0;34m\u001b[0m\u001b[0;34m\u001b[0m\u001b[0m\n\u001b[0m\u001b[1;32m     66\u001b[0m         \u001b[0;32mexcept\u001b[0m \u001b[0mException\u001b[0m \u001b[0;32mas\u001b[0m \u001b[0me\u001b[0m\u001b[0;34m:\u001b[0m\u001b[0;34m\u001b[0m\u001b[0;34m\u001b[0m\u001b[0m\n\u001b[1;32m     67\u001b[0m             \u001b[0mfiltered_tb\u001b[0m \u001b[0;34m=\u001b[0m \u001b[0m_process_traceback_frames\u001b[0m\u001b[0;34m(\u001b[0m\u001b[0me\u001b[0m\u001b[0;34m.\u001b[0m\u001b[0m__traceback__\u001b[0m\u001b[0;34m)\u001b[0m\u001b[0;34m\u001b[0m\u001b[0;34m\u001b[0m\u001b[0m\n",
            "\u001b[0;32m/usr/local/lib/python3.11/dist-packages/keras/src/engine/training.py\u001b[0m in \u001b[0;36mfit\u001b[0;34m(self, x, y, batch_size, epochs, verbose, callbacks, validation_split, validation_data, shuffle, class_weight, sample_weight, initial_epoch, steps_per_epoch, validation_steps, validation_batch_size, validation_freq, max_queue_size, workers, use_multiprocessing)\u001b[0m\n\u001b[1;32m   1805\u001b[0m                         ):\n\u001b[1;32m   1806\u001b[0m                             \u001b[0mcallbacks\u001b[0m\u001b[0;34m.\u001b[0m\u001b[0mon_train_batch_begin\u001b[0m\u001b[0;34m(\u001b[0m\u001b[0mstep\u001b[0m\u001b[0;34m)\u001b[0m\u001b[0;34m\u001b[0m\u001b[0;34m\u001b[0m\u001b[0m\n\u001b[0;32m-> 1807\u001b[0;31m                             \u001b[0mtmp_logs\u001b[0m \u001b[0;34m=\u001b[0m \u001b[0mself\u001b[0m\u001b[0;34m.\u001b[0m\u001b[0mtrain_function\u001b[0m\u001b[0;34m(\u001b[0m\u001b[0miterator\u001b[0m\u001b[0;34m)\u001b[0m\u001b[0;34m\u001b[0m\u001b[0;34m\u001b[0m\u001b[0m\n\u001b[0m\u001b[1;32m   1808\u001b[0m                             \u001b[0;32mif\u001b[0m \u001b[0mdata_handler\u001b[0m\u001b[0;34m.\u001b[0m\u001b[0mshould_sync\u001b[0m\u001b[0;34m:\u001b[0m\u001b[0;34m\u001b[0m\u001b[0;34m\u001b[0m\u001b[0m\n\u001b[1;32m   1809\u001b[0m                                 \u001b[0mcontext\u001b[0m\u001b[0;34m.\u001b[0m\u001b[0masync_wait\u001b[0m\u001b[0;34m(\u001b[0m\u001b[0;34m)\u001b[0m\u001b[0;34m\u001b[0m\u001b[0;34m\u001b[0m\u001b[0m\n",
            "\u001b[0;32m/usr/local/lib/python3.11/dist-packages/tensorflow/python/util/traceback_utils.py\u001b[0m in \u001b[0;36merror_handler\u001b[0;34m(*args, **kwargs)\u001b[0m\n\u001b[1;32m    148\u001b[0m     \u001b[0mfiltered_tb\u001b[0m \u001b[0;34m=\u001b[0m \u001b[0;32mNone\u001b[0m\u001b[0;34m\u001b[0m\u001b[0;34m\u001b[0m\u001b[0m\n\u001b[1;32m    149\u001b[0m     \u001b[0;32mtry\u001b[0m\u001b[0;34m:\u001b[0m\u001b[0;34m\u001b[0m\u001b[0;34m\u001b[0m\u001b[0m\n\u001b[0;32m--> 150\u001b[0;31m       \u001b[0;32mreturn\u001b[0m \u001b[0mfn\u001b[0m\u001b[0;34m(\u001b[0m\u001b[0;34m*\u001b[0m\u001b[0margs\u001b[0m\u001b[0;34m,\u001b[0m \u001b[0;34m**\u001b[0m\u001b[0mkwargs\u001b[0m\u001b[0;34m)\u001b[0m\u001b[0;34m\u001b[0m\u001b[0;34m\u001b[0m\u001b[0m\n\u001b[0m\u001b[1;32m    151\u001b[0m     \u001b[0;32mexcept\u001b[0m \u001b[0mException\u001b[0m \u001b[0;32mas\u001b[0m \u001b[0me\u001b[0m\u001b[0;34m:\u001b[0m\u001b[0;34m\u001b[0m\u001b[0;34m\u001b[0m\u001b[0m\n\u001b[1;32m    152\u001b[0m       \u001b[0mfiltered_tb\u001b[0m \u001b[0;34m=\u001b[0m \u001b[0m_process_traceback_frames\u001b[0m\u001b[0;34m(\u001b[0m\u001b[0me\u001b[0m\u001b[0;34m.\u001b[0m\u001b[0m__traceback__\u001b[0m\u001b[0;34m)\u001b[0m\u001b[0;34m\u001b[0m\u001b[0;34m\u001b[0m\u001b[0m\n",
            "\u001b[0;32m/usr/local/lib/python3.11/dist-packages/tensorflow/python/eager/polymorphic_function/polymorphic_function.py\u001b[0m in \u001b[0;36m__call__\u001b[0;34m(self, *args, **kwds)\u001b[0m\n\u001b[1;32m    830\u001b[0m \u001b[0;34m\u001b[0m\u001b[0m\n\u001b[1;32m    831\u001b[0m       \u001b[0;32mwith\u001b[0m \u001b[0mOptionalXlaContext\u001b[0m\u001b[0;34m(\u001b[0m\u001b[0mself\u001b[0m\u001b[0;34m.\u001b[0m\u001b[0m_jit_compile\u001b[0m\u001b[0;34m)\u001b[0m\u001b[0;34m:\u001b[0m\u001b[0;34m\u001b[0m\u001b[0;34m\u001b[0m\u001b[0m\n\u001b[0;32m--> 832\u001b[0;31m         \u001b[0mresult\u001b[0m \u001b[0;34m=\u001b[0m \u001b[0mself\u001b[0m\u001b[0;34m.\u001b[0m\u001b[0m_call\u001b[0m\u001b[0;34m(\u001b[0m\u001b[0;34m*\u001b[0m\u001b[0margs\u001b[0m\u001b[0;34m,\u001b[0m \u001b[0;34m**\u001b[0m\u001b[0mkwds\u001b[0m\u001b[0;34m)\u001b[0m\u001b[0;34m\u001b[0m\u001b[0;34m\u001b[0m\u001b[0m\n\u001b[0m\u001b[1;32m    833\u001b[0m \u001b[0;34m\u001b[0m\u001b[0m\n\u001b[1;32m    834\u001b[0m       \u001b[0mnew_tracing_count\u001b[0m \u001b[0;34m=\u001b[0m \u001b[0mself\u001b[0m\u001b[0;34m.\u001b[0m\u001b[0mexperimental_get_tracing_count\u001b[0m\u001b[0;34m(\u001b[0m\u001b[0;34m)\u001b[0m\u001b[0;34m\u001b[0m\u001b[0;34m\u001b[0m\u001b[0m\n",
            "\u001b[0;32m/usr/local/lib/python3.11/dist-packages/tensorflow/python/eager/polymorphic_function/polymorphic_function.py\u001b[0m in \u001b[0;36m_call\u001b[0;34m(self, *args, **kwds)\u001b[0m\n\u001b[1;32m    866\u001b[0m       \u001b[0;31m# In this case we have created variables on the first call, so we run the\u001b[0m\u001b[0;34m\u001b[0m\u001b[0;34m\u001b[0m\u001b[0m\n\u001b[1;32m    867\u001b[0m       \u001b[0;31m# defunned version which is guaranteed to never create variables.\u001b[0m\u001b[0;34m\u001b[0m\u001b[0;34m\u001b[0m\u001b[0m\n\u001b[0;32m--> 868\u001b[0;31m       return tracing_compilation.call_function(\n\u001b[0m\u001b[1;32m    869\u001b[0m           \u001b[0margs\u001b[0m\u001b[0;34m,\u001b[0m \u001b[0mkwds\u001b[0m\u001b[0;34m,\u001b[0m \u001b[0mself\u001b[0m\u001b[0;34m.\u001b[0m\u001b[0m_no_variable_creation_config\u001b[0m\u001b[0;34m\u001b[0m\u001b[0;34m\u001b[0m\u001b[0m\n\u001b[1;32m    870\u001b[0m       )\n",
            "\u001b[0;32m/usr/local/lib/python3.11/dist-packages/tensorflow/python/eager/polymorphic_function/tracing_compilation.py\u001b[0m in \u001b[0;36mcall_function\u001b[0;34m(args, kwargs, tracing_options)\u001b[0m\n\u001b[1;32m    137\u001b[0m   \u001b[0mbound_args\u001b[0m \u001b[0;34m=\u001b[0m \u001b[0mfunction\u001b[0m\u001b[0;34m.\u001b[0m\u001b[0mfunction_type\u001b[0m\u001b[0;34m.\u001b[0m\u001b[0mbind\u001b[0m\u001b[0;34m(\u001b[0m\u001b[0;34m*\u001b[0m\u001b[0margs\u001b[0m\u001b[0;34m,\u001b[0m \u001b[0;34m**\u001b[0m\u001b[0mkwargs\u001b[0m\u001b[0;34m)\u001b[0m\u001b[0;34m\u001b[0m\u001b[0;34m\u001b[0m\u001b[0m\n\u001b[1;32m    138\u001b[0m   \u001b[0mflat_inputs\u001b[0m \u001b[0;34m=\u001b[0m \u001b[0mfunction\u001b[0m\u001b[0;34m.\u001b[0m\u001b[0mfunction_type\u001b[0m\u001b[0;34m.\u001b[0m\u001b[0munpack_inputs\u001b[0m\u001b[0;34m(\u001b[0m\u001b[0mbound_args\u001b[0m\u001b[0;34m)\u001b[0m\u001b[0;34m\u001b[0m\u001b[0;34m\u001b[0m\u001b[0m\n\u001b[0;32m--> 139\u001b[0;31m   return function._call_flat(  # pylint: disable=protected-access\n\u001b[0m\u001b[1;32m    140\u001b[0m       \u001b[0mflat_inputs\u001b[0m\u001b[0;34m,\u001b[0m \u001b[0mcaptured_inputs\u001b[0m\u001b[0;34m=\u001b[0m\u001b[0mfunction\u001b[0m\u001b[0;34m.\u001b[0m\u001b[0mcaptured_inputs\u001b[0m\u001b[0;34m\u001b[0m\u001b[0;34m\u001b[0m\u001b[0m\n\u001b[1;32m    141\u001b[0m   )\n",
            "\u001b[0;32m/usr/local/lib/python3.11/dist-packages/tensorflow/python/eager/polymorphic_function/concrete_function.py\u001b[0m in \u001b[0;36m_call_flat\u001b[0;34m(self, tensor_inputs, captured_inputs)\u001b[0m\n\u001b[1;32m   1321\u001b[0m         and executing_eagerly):\n\u001b[1;32m   1322\u001b[0m       \u001b[0;31m# No tape is watching; skip to running the function.\u001b[0m\u001b[0;34m\u001b[0m\u001b[0;34m\u001b[0m\u001b[0m\n\u001b[0;32m-> 1323\u001b[0;31m       \u001b[0;32mreturn\u001b[0m \u001b[0mself\u001b[0m\u001b[0;34m.\u001b[0m\u001b[0m_inference_function\u001b[0m\u001b[0;34m.\u001b[0m\u001b[0mcall_preflattened\u001b[0m\u001b[0;34m(\u001b[0m\u001b[0margs\u001b[0m\u001b[0;34m)\u001b[0m\u001b[0;34m\u001b[0m\u001b[0;34m\u001b[0m\u001b[0m\n\u001b[0m\u001b[1;32m   1324\u001b[0m     forward_backward = self._select_forward_and_backward_functions(\n\u001b[1;32m   1325\u001b[0m         \u001b[0margs\u001b[0m\u001b[0;34m,\u001b[0m\u001b[0;34m\u001b[0m\u001b[0;34m\u001b[0m\u001b[0m\n",
            "\u001b[0;32m/usr/local/lib/python3.11/dist-packages/tensorflow/python/eager/polymorphic_function/atomic_function.py\u001b[0m in \u001b[0;36mcall_preflattened\u001b[0;34m(self, args)\u001b[0m\n\u001b[1;32m    214\u001b[0m   \u001b[0;32mdef\u001b[0m \u001b[0mcall_preflattened\u001b[0m\u001b[0;34m(\u001b[0m\u001b[0mself\u001b[0m\u001b[0;34m,\u001b[0m \u001b[0margs\u001b[0m\u001b[0;34m:\u001b[0m \u001b[0mSequence\u001b[0m\u001b[0;34m[\u001b[0m\u001b[0mcore\u001b[0m\u001b[0;34m.\u001b[0m\u001b[0mTensor\u001b[0m\u001b[0;34m]\u001b[0m\u001b[0;34m)\u001b[0m \u001b[0;34m->\u001b[0m \u001b[0mAny\u001b[0m\u001b[0;34m:\u001b[0m\u001b[0;34m\u001b[0m\u001b[0;34m\u001b[0m\u001b[0m\n\u001b[1;32m    215\u001b[0m     \u001b[0;34m\"\"\"Calls with flattened tensor inputs and returns the structured output.\"\"\"\u001b[0m\u001b[0;34m\u001b[0m\u001b[0;34m\u001b[0m\u001b[0m\n\u001b[0;32m--> 216\u001b[0;31m     \u001b[0mflat_outputs\u001b[0m \u001b[0;34m=\u001b[0m \u001b[0mself\u001b[0m\u001b[0;34m.\u001b[0m\u001b[0mcall_flat\u001b[0m\u001b[0;34m(\u001b[0m\u001b[0;34m*\u001b[0m\u001b[0margs\u001b[0m\u001b[0;34m)\u001b[0m\u001b[0;34m\u001b[0m\u001b[0;34m\u001b[0m\u001b[0m\n\u001b[0m\u001b[1;32m    217\u001b[0m     \u001b[0;32mreturn\u001b[0m \u001b[0mself\u001b[0m\u001b[0;34m.\u001b[0m\u001b[0mfunction_type\u001b[0m\u001b[0;34m.\u001b[0m\u001b[0mpack_output\u001b[0m\u001b[0;34m(\u001b[0m\u001b[0mflat_outputs\u001b[0m\u001b[0;34m)\u001b[0m\u001b[0;34m\u001b[0m\u001b[0;34m\u001b[0m\u001b[0m\n\u001b[1;32m    218\u001b[0m \u001b[0;34m\u001b[0m\u001b[0m\n",
            "\u001b[0;32m/usr/local/lib/python3.11/dist-packages/tensorflow/python/eager/polymorphic_function/atomic_function.py\u001b[0m in \u001b[0;36mcall_flat\u001b[0;34m(self, *args)\u001b[0m\n\u001b[1;32m    249\u001b[0m         \u001b[0;32mwith\u001b[0m \u001b[0mrecord\u001b[0m\u001b[0;34m.\u001b[0m\u001b[0mstop_recording\u001b[0m\u001b[0;34m(\u001b[0m\u001b[0;34m)\u001b[0m\u001b[0;34m:\u001b[0m\u001b[0;34m\u001b[0m\u001b[0;34m\u001b[0m\u001b[0m\n\u001b[1;32m    250\u001b[0m           \u001b[0;32mif\u001b[0m \u001b[0mself\u001b[0m\u001b[0;34m.\u001b[0m\u001b[0m_bound_context\u001b[0m\u001b[0;34m.\u001b[0m\u001b[0mexecuting_eagerly\u001b[0m\u001b[0;34m(\u001b[0m\u001b[0;34m)\u001b[0m\u001b[0;34m:\u001b[0m\u001b[0;34m\u001b[0m\u001b[0;34m\u001b[0m\u001b[0m\n\u001b[0;32m--> 251\u001b[0;31m             outputs = self._bound_context.call_function(\n\u001b[0m\u001b[1;32m    252\u001b[0m                 \u001b[0mself\u001b[0m\u001b[0;34m.\u001b[0m\u001b[0mname\u001b[0m\u001b[0;34m,\u001b[0m\u001b[0;34m\u001b[0m\u001b[0;34m\u001b[0m\u001b[0m\n\u001b[1;32m    253\u001b[0m                 \u001b[0mlist\u001b[0m\u001b[0;34m(\u001b[0m\u001b[0margs\u001b[0m\u001b[0;34m)\u001b[0m\u001b[0;34m,\u001b[0m\u001b[0;34m\u001b[0m\u001b[0;34m\u001b[0m\u001b[0m\n",
            "\u001b[0;32m/usr/local/lib/python3.11/dist-packages/tensorflow/python/eager/context.py\u001b[0m in \u001b[0;36mcall_function\u001b[0;34m(self, name, tensor_inputs, num_outputs)\u001b[0m\n\u001b[1;32m   1484\u001b[0m     \u001b[0mcancellation_context\u001b[0m \u001b[0;34m=\u001b[0m \u001b[0mcancellation\u001b[0m\u001b[0;34m.\u001b[0m\u001b[0mcontext\u001b[0m\u001b[0;34m(\u001b[0m\u001b[0;34m)\u001b[0m\u001b[0;34m\u001b[0m\u001b[0;34m\u001b[0m\u001b[0m\n\u001b[1;32m   1485\u001b[0m     \u001b[0;32mif\u001b[0m \u001b[0mcancellation_context\u001b[0m \u001b[0;32mis\u001b[0m \u001b[0;32mNone\u001b[0m\u001b[0;34m:\u001b[0m\u001b[0;34m\u001b[0m\u001b[0;34m\u001b[0m\u001b[0m\n\u001b[0;32m-> 1486\u001b[0;31m       outputs = execute.execute(\n\u001b[0m\u001b[1;32m   1487\u001b[0m           \u001b[0mname\u001b[0m\u001b[0;34m.\u001b[0m\u001b[0mdecode\u001b[0m\u001b[0;34m(\u001b[0m\u001b[0;34m\"utf-8\"\u001b[0m\u001b[0;34m)\u001b[0m\u001b[0;34m,\u001b[0m\u001b[0;34m\u001b[0m\u001b[0;34m\u001b[0m\u001b[0m\n\u001b[1;32m   1488\u001b[0m           \u001b[0mnum_outputs\u001b[0m\u001b[0;34m=\u001b[0m\u001b[0mnum_outputs\u001b[0m\u001b[0;34m,\u001b[0m\u001b[0;34m\u001b[0m\u001b[0;34m\u001b[0m\u001b[0m\n",
            "\u001b[0;32m/usr/local/lib/python3.11/dist-packages/tensorflow/python/eager/execute.py\u001b[0m in \u001b[0;36mquick_execute\u001b[0;34m(op_name, num_outputs, inputs, attrs, ctx, name)\u001b[0m\n\u001b[1;32m     51\u001b[0m   \u001b[0;32mtry\u001b[0m\u001b[0;34m:\u001b[0m\u001b[0;34m\u001b[0m\u001b[0;34m\u001b[0m\u001b[0m\n\u001b[1;32m     52\u001b[0m     \u001b[0mctx\u001b[0m\u001b[0;34m.\u001b[0m\u001b[0mensure_initialized\u001b[0m\u001b[0;34m(\u001b[0m\u001b[0;34m)\u001b[0m\u001b[0;34m\u001b[0m\u001b[0;34m\u001b[0m\u001b[0m\n\u001b[0;32m---> 53\u001b[0;31m     tensors = pywrap_tfe.TFE_Py_Execute(ctx._handle, device_name, op_name,\n\u001b[0m\u001b[1;32m     54\u001b[0m                                         inputs, attrs, num_outputs)\n\u001b[1;32m     55\u001b[0m   \u001b[0;32mexcept\u001b[0m \u001b[0mcore\u001b[0m\u001b[0;34m.\u001b[0m\u001b[0m_NotOkStatusException\u001b[0m \u001b[0;32mas\u001b[0m \u001b[0me\u001b[0m\u001b[0;34m:\u001b[0m\u001b[0;34m\u001b[0m\u001b[0;34m\u001b[0m\u001b[0m\n",
            "\u001b[0;31mKeyboardInterrupt\u001b[0m: "
          ]
        }
      ],
      "source": [
        "t0 = time.time()\n",
        "\n",
        "history = vae.fit(w_train, validation_data = w_val, epochs = 30) # 20\n",
        "\n",
        "t1 = time.time()\n",
        "\n",
        "print(f\"Training time {(t1 - t0)/60} minutes.\")"
      ]
    },
    {
      "cell_type": "markdown",
      "metadata": {
        "id": "1yVnrUAutuev"
      },
      "source": [
        "## Load weights from a pretrained model"
      ]
    },
    {
      "cell_type": "code",
      "execution_count": null,
      "metadata": {
        "id": "6xRSOw-FRmby"
      },
      "outputs": [],
      "source": [
        "if (vel_comp == \"streamwise\"):\n",
        "    vae.load_weights(\"Models_weights/weights_vae_laminar_streamwise.h5\")\n",
        "else:\n",
        "    vae.load_weights(\"Models_weights/weights_vae_laminar_normal.h5\")"
      ]
    },
    {
      "cell_type": "code",
      "execution_count": null,
      "metadata": {
        "colab": {
          "base_uri": "https://localhost:8080/",
          "height": 579
        },
        "id": "BxXsywS-BIgC",
        "outputId": "d3fa75d4-c806-4731-cbef-af05e9211783"
      },
      "outputs": [
        {
          "data": {
            "text/plain": [
              "<matplotlib.legend.Legend at 0x7af60ae2bf10>"
            ]
          },
          "execution_count": 49,
          "metadata": {},
          "output_type": "execute_result"
        },
        {
          "data": {
            "image/png": "[encoded data removed]",
            "text/plain": [
              "<Figure size 800x600 with 1 Axes>"
            ]
          },
          "metadata": {},
          "output_type": "display_data"
        }
      ],
      "source": [
        "# Plot loss evolution\n",
        "\"\"\"\n",
        "fig = plt.figure(figsize = (8, 6))\n",
        "plt.plot(history.history['loss'], 'b', label = 'Training loss')\n",
        "plt.plot(history.history['val_loss'], 'g--', label = 'Validation loss')\n",
        "plt.xlabel(f'Training epochs ({len(history.history[\"loss\"])})')\n",
        "plt.ylabel('Loss function value')\n",
        "plt.grid()\n",
        "plt.legend()\n",
        "\"\"\""
      ]
    },
    {
      "cell_type": "markdown",
      "metadata": {
        "id": "EeT4KvVm-dXH"
      },
      "source": [
        "# Prediction"
      ]
    },
    {
      "cell_type": "code",
      "execution_count": null,
      "metadata": {
        "id": "-97iWb_b2B3h"
      },
      "outputs": [],
      "source": [
        "def evaluate_model_test_iter(ten_orig_1, time_pred = 10, start_pnt = 10):\n",
        "\n",
        "  ten_orig = np.copy(ten_orig_1)\n",
        "\n",
        "  predictions = np.empty((ten_orig.shape[1], ten_orig.shape[2],\n",
        "                          ten_orig.shape[3], time_pred))\n",
        "\n",
        "  snap = np.copy(ten_orig[..., start_pnt-10:start_pnt])\n",
        "  snap = (snap - ten_min) / ten_range\n",
        "  snap = np.transpose(snap, [3,4,1,2,0])\n",
        "\n",
        "  for i in range(time_pred):\n",
        "\n",
        "    pred = vae.predict(snap, verbose = 0)\n",
        "\n",
        "    pred_1 = np.transpose(np.copy(pred), [1,2,0])\n",
        "    pred_1 = pred_1 * ten_range + ten_min\n",
        "\n",
        "    predictions[...,i] = pred_1\n",
        "\n",
        "    pred = pred[:,None,:,:,None]\n",
        "    snap = np.concatenate([snap[:,1:,:,:,:], pred], axis = 1)\n",
        "\n",
        "  del ten_orig, snap, pred, pred_1\n",
        "\n",
        "  return predictions"
      ]
    },
    {
      "cell_type": "code",
      "execution_count": null,
      "metadata": {
        "colab": {
          "base_uri": "https://localhost:8080/"
        },
        "id": "XFfI0Pet2FSZ",
        "outputId": "415f6f3d-6444-43ab-c5fc-68654397547e"
      },
      "outputs": [
        {
          "name": "stdout",
          "output_type": "stream",
          "text": [
            "Seconds elapsed: 119.370279\n"
          ]
        }
      ],
      "source": [
        "t0 = time.time()\n",
        "\n",
        "start_pnt = train_set.shape[0]\n",
        "\n",
        "if (vel_comp == \"streamwise\"):\n",
        "    predictions = evaluate_model_test_iter(Ten_orig[0:1,...], num_preds, start_pnt)\n",
        "else:\n",
        "    predictions = evaluate_model_test_iter(Ten_orig[1:2,...], num_preds, start_pnt)\n",
        "\n",
        "t1 = time.time()\n",
        "print(\"Seconds elapsed: %f\" % (t1 - t0))"
      ]
    },
    {
      "cell_type": "code",
      "execution_count": null,
      "metadata": {
        "colab": {
          "base_uri": "https://localhost:8080/",
          "height": 303
        },
        "id": "b02LFQ5I6Qdw",
        "outputId": "26ce5442-7f3b-4a3d-f6b7-016dac74c1b3"
      },
      "outputs": [
        {
          "data": {
            "text/plain": [
              "Text(0.5, 1.0, 'Forecast')"
            ]
          },
          "execution_count": 32,
          "metadata": {},
          "output_type": "execute_result"
        },
        {
          "data": {
            "image/png": "[encoded data removed]",
            "text/plain": [
              "<Figure size 1500x300 with 4 Axes>"
            ]
          },
          "metadata": {},
          "output_type": "display_data"
        }
      ],
      "source": [
        "select_snap = 40\n",
        "span_ch = 32\n",
        "\n",
        "snap_pred = predictions[:, :, span_ch, select_snap]\n",
        "\n",
        "if (vel_comp == \"streamwise\"):\n",
        "    snap_target = Ten_orig[0, :, :, span_ch, start_pnt + select_snap]\n",
        "else:\n",
        "    snap_target = Ten_orig[1, :, :, span_ch, start_pnt + select_snap]\n",
        "\n",
        "fig3 = plt.figure(figsize=(15, 3))\n",
        "\n",
        "vmin = np.amin(snap_target)\n",
        "vmax = np.amax(snap_target)\n",
        "\n",
        "plt.subplot(1, 2, 1)\n",
        "plt.contourf(snap_target.T, 15, vmin = vmin, vmax = vmax)\n",
        "plt.colorbar()\n",
        "plt.title(\"Ground Truth\")\n",
        "\n",
        "plt.subplot(1, 2, 2)\n",
        "plt.contourf(snap_pred.T, 15, vmin = vmin, vmax = vmax)\n",
        "plt.colorbar()\n",
        "plt.title(\"Forecast\")"
      ]
    },
    {
      "cell_type": "code",
      "execution_count": null,
      "metadata": {
        "id": "1vamuwCGtztK"
      },
      "outputs": [],
      "source": []
    }
  ],
  "metadata": {
    "colab": {
      "machine_shape": "hm",
      "provenance": [],
      "include_colab_link": true
    },
    "kernelspec": {
      "display_name": "Python 3",
      "name": "python3"
    },
    "language_info": {
      "name": "python"
    }
  },
  "nbformat": 4,
  "nbformat_minor": 0
}