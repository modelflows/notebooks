{
 "cells": [
  {
   "cell_type": "code",
   "execution_count": 1,
   "metadata": {
    "executionInfo": {
     "elapsed": 11434,
     "status": "ok",
     "timestamp": 1743769332629,
     "user": {
      "displayName": "Adrian Corrochano",
      "userId": "11116303941207144312"
     },
     "user_tz": -120
    },
    "id": "9r7484H7vjO9"
   },
   "outputs": [],
   "source": [
    "try:\n",
    "  import mat73\n",
    "except:\n",
    "  !pip install -q mat73\n",
    "  import mat73"
   ]
  },
  {
   "cell_type": "code",
   "execution_count": 2,
   "metadata": {
    "executionInfo": {
     "elapsed": 9272,
     "status": "ok",
     "timestamp": 1743769341905,
     "user": {
      "displayName": "Adrian Corrochano",
      "userId": "11116303941207144312"
     },
     "user_tz": -120
    },
    "id": "R1tNqiImckNQ"
   },
   "outputs": [],
   "source": [
    "import os\n",
    "import numpy as np\n",
    "import numba as nb\n",
    "from sklearn.utils.extmath import randomized_svd\n",
    "import matplotlib.pyplot as plt\n",
    "os.environ['KMP_DUPLICATE_LIB_OK']='True'\n",
    "import gdown\n",
    "import time\n",
    "timestr = time.strftime(\"%Y-%m-%d_%H.%M.%S\")"
   ]
  },
  {
   "cell_type": "markdown",
   "metadata": {
    "id": "aJVv1CQkenPB"
   },
   "source": [
    "# DEFINE NECESSARY FUNCTIONS FOR PERFORMING HODMD\n",
    "\n",
    "Related to HOSVD"
   ]
  },
  {
   "cell_type": "code",
   "execution_count": 3,
   "metadata": {
    "executionInfo": {
     "elapsed": 57,
     "status": "ok",
     "timestamp": 1743769639354,
     "user": {
      "displayName": "Adrian Corrochano",
      "userId": "11116303941207144312"
     },
     "user_tz": -120
    },
    "id": "IvYdsQPUeh10"
   },
   "outputs": [],
   "source": [
    "def matlen(var):\n",
    "    '''Equivalent to Matlab's length()'''\n",
    "    if np.size(np.shape(var))==1:\n",
    "        x = np.size(var)\n",
    "    else:\n",
    "        x = max(np.shape(var))\n",
    "    return x\n",
    "\n",
    "def unfold(A,dim):\n",
    "    '''Turns tensor into matrix keeping the columns on dim'''\n",
    "    ax=np.arange(A.ndim)\n",
    "    return np.reshape(np.moveaxis(A,ax,np.roll(ax,dim)),(A.shape[dim],A.size//A.shape[dim]))\n",
    "\n",
    "\n",
    "def fold(B,dim,shape):\n",
    "    '''Reverse operation to the unfold function'''\n",
    "    ax=np.arange(len(shape))\n",
    "    shape=np.roll(shape,-dim)\n",
    "    A=np.reshape(B,shape)\n",
    "    return np.moveaxis(A,ax,np.roll(ax,-dim))\n",
    "\n",
    "def tprod(S,U):\n",
    "    '''Tensor product of an ndim-array and multiple matrices'''\n",
    "    T = S\n",
    "    shap = list(np.shape(S))\n",
    "    for i in range(0,np.size(U)):\n",
    "        x = np.count_nonzero(U[0][i])\n",
    "        if not x==0:\n",
    "            shap[i] = np.shape(U[0][i])[0]\n",
    "            H = unfold(T,i)\n",
    "            T = fold(np.dot(U[0][i],H),i,shap)\n",
    "    return T\n",
    "\n",
    "def svdtrunc(A, n):\n",
    "    '''Truncated svd'''\n",
    "    U, S, _ = randomized_svd(A, n_components = n)\n",
    "    return U, S\n",
    "\n",
    "def HOSVD_function(T,varepsilon1):\n",
    "    '''Perform hosvd to tensor'''\n",
    "    P = T.ndim\n",
    "    U = np.zeros(shape=(1,P), dtype=object)\n",
    "    UT = np.zeros(shape=(1,P), dtype=object)\n",
    "    sv = np.zeros(shape=(1,P), dtype=object)\n",
    "    producto = np.size(T)\n",
    "\n",
    "    if isinstance(varepsilon1, (list, np.ndarray)):\n",
    "        n = varepsilon1\n",
    "    else:\n",
    "        n = T.shape\n",
    "\n",
    "    n = list(n)\n",
    "\n",
    "    for i in range(0,P):\n",
    "        n[i] = int(np.amin((n[i],producto/n[i])))\n",
    "        A = unfold(T, i)\n",
    "\n",
    "        Uaux = []\n",
    "        # SVD based reduction of the current dimension (i):\n",
    "        Ui, svi = svdtrunc(A, n[i])\n",
    "\n",
    "        if n[i] < 2:\n",
    "            Uaux = np.zeros((np.shape(Ui)[0],2))\n",
    "            Uaux[:,0] = Ui[:,0]\n",
    "            U[0][i] = Uaux\n",
    "        else:\n",
    "            if isinstance(varepsilon1, (list, np.ndarray)):\n",
    "                pass\n",
    "            else:\n",
    "                count = 0\n",
    "                for j in range(0,np.shape(svi)[0]):\n",
    "                    if svi[j]/svi[0]<=varepsilon1:\n",
    "                        pass\n",
    "                    else:\n",
    "                        count = count+1\n",
    "                n[i] = count\n",
    "            U[0][i] = Ui[:,0:n[i]]\n",
    "\n",
    "        UT[0][i] = np.transpose(U[0][i])\n",
    "        sv[0][i] = svi\n",
    "    S = tprod(T, UT)\n",
    "    TT = tprod(S, U)\n",
    "    return TT, S, U, sv, n\n",
    "\n",
    "def HOSVD(Tensor,varepsilon1,nn,n,TimePos):\n",
    "    '''Perform hosvd to input data and retain all the singular values'''\n",
    "\n",
    "    if np.iscomplex(Tensor.any()) == False:\n",
    "        Tensor = Tensor.astype(np.float32)\n",
    "    [TT,S2,U,sv,nn2] = HOSVD_function(Tensor,varepsilon1)\n",
    "    ## Set the truncation of the singular values using varepsilon1\n",
    "    # (automatic truncation)\n",
    "\n",
    "    print(f'Initial number of singular values: {n}')\n",
    "    print(f'Number of singular values retained: {nn2}')\n",
    "\n",
    "\n",
    "    ## Construct the reduced matrix containing the temporal modes:\n",
    "    UT = np.zeros(shape=np.shape(U), dtype=object)\n",
    "    hatT = []\n",
    "    for pp in range(0,np.size(nn2)):\n",
    "        UT[0][pp] = np.transpose(U[0][pp])\n",
    "    for kk in range(0,nn2[TimePos-1]):\n",
    "        hatT.append(np.dot(sv[0][TimePos-1][kk],UT[0][TimePos-1][kk,:]))\n",
    "    hatT = np.reshape(hatT, newshape=(len(hatT),np.size(hatT[0])))\n",
    "    return hatT,U,S2,sv,nn2,n,TT"
   ]
  },
  {
   "cell_type": "markdown",
   "metadata": {
    "id": "ETOgQehus3uH"
   },
   "source": [
    "Related to DMD-1"
   ]
  },
  {
   "cell_type": "code",
   "execution_count": 4,
   "metadata": {
    "executionInfo": {
     "elapsed": 22,
     "status": "ok",
     "timestamp": 1743769342149,
     "user": {
      "displayName": "Adrian Corrochano",
      "userId": "11116303941207144312"
     },
     "user_tz": -120
    },
    "id": "ujjlA4xJfFOG"
   },
   "outputs": [],
   "source": [
    "def dmd1(V,t,esvd,edmd):\n",
    "    '''First order dynamic modal decomposition:\n",
    "        Input:\n",
    "            -V (IxJ): Snapshot matrix.\n",
    "            -t (J): Time vector.\n",
    "            -esvd: First tolerance (SVD).\n",
    "            -edmd: Second tolerance (DMD modes).\n",
    "        Output:\n",
    "            -u (Ixn): mode matrix (columns) sorted from biggest to smallest amplitude, put to scale.\n",
    "            -areal (n): amplitude vector (sorted) used to put u to scale.\n",
    "            -eigval: eigenvalues\n",
    "            -delta (n): growth rate vector.\n",
    "            -omega (n): frequency vector.\n",
    "            -DMDmode: Modes'''\n",
    "    dt=t[1]-t[0]\n",
    "\n",
    "    # Reduced snapshots:\n",
    "    U,s,Wh=truncatedSVD(V,esvd)\n",
    "    Vvir=np.diag(s)@Wh\n",
    "    n=s.size\n",
    "\n",
    "    # Spatial complexity kk:\n",
    "    NormS=np.linalg.norm(s,ord=2)\n",
    "    kk=0\n",
    "    for k in range(0,n):\n",
    "        if np.linalg.norm(s[k:n],2)/NormS>esvd:\n",
    "            kk=kk+1\n",
    "    print(f'Spatial complexity: {kk}')\n",
    "\n",
    "    # Koopman matrix reconstruction:\n",
    "    Uvir,svir,Wvirh=np.linalg.svd(Vvir[:,:-1],full_matrices=False) #r'*r', r'*r', r'*(J-1)\n",
    "    Rvir=Vvir[:,1:]@Wvirh.conj().T@np.diag(svir**-1)@Uvir.conj().T #r'*r'\n",
    "    eigval,eigvec=np.linalg.eig(Rvir) #r'*r'\n",
    "\n",
    "    # Frequencies and Growthrate:\n",
    "    delta=np.log(eigval).real/dt #r'\n",
    "    omega=np.log(eigval).imag/dt #r'\n",
    "\n",
    "    # Amplitudes:\n",
    "    A=np.zeros((eigvec.shape[0]*Vvir.shape[1],eigvec.shape[1]))\n",
    "    b=np.zeros(eigvec.shape[0]*Vvir.shape[1])\n",
    "    for i in range(Vvir.shape[1]):\n",
    "        A[i*eigvec.shape[0]:(i+1)*eigvec.shape[0],:]=eigvec@np.diag(eigval**i)\n",
    "        b[i*eigvec.shape[0]:(i+1)*eigvec.shape[0]]=Vvir[:,i]\n",
    "\n",
    "    Ua,sa,Wa=np.linalg.svd(A,full_matrices=False)\n",
    "    a=Wa.conj().T@np.diag(sa**-1)@Ua.conj().T@b\n",
    "\n",
    "    # Modes:\n",
    "    uvir=eigvec@np.diag(a)\n",
    "    u=U@uvir\n",
    "\n",
    "    areal=np.linalg.norm(u,axis=0)/np.sqrt(V.shape[0])\n",
    "\n",
    "    #Spectral complexity:\n",
    "    kk3=0\n",
    "    for m in range(0,np.size(areal)):\n",
    "        if areal[m]/np.max(areal)>edmd:\n",
    "            kk3=kk3+1\n",
    "    print(f'Spectral complexity: {kk3}')\n",
    "\n",
    "    idx=np.flip(np.argsort(areal))\n",
    "    u=u[:,idx]\n",
    "    areal=areal[idx]\n",
    "    eigval=eigval[idx]\n",
    "    delta=delta[idx]\n",
    "    omega=omega[idx]\n",
    "\n",
    "    # Filter important ones:\n",
    "    mask=(areal/areal[0])>edmd\n",
    "\n",
    "    # Mode Matrix:\n",
    "    ModeMatr=np.zeros((kk3,4))\n",
    "    for ii in range(0,kk3):\n",
    "        ModeMatr[ii,0]=ii+1\n",
    "        ModeMatr[ii,1]=delta[mask][ii]\n",
    "        ModeMatr[ii,2]=omega[mask][ii]\n",
    "        ModeMatr[ii,3]=areal[mask][ii]\n",
    "\n",
    "    # Calculate modes:\n",
    "    u=u[:,mask]\n",
    "    U = U[:,0:kk]\n",
    "    DMDmode=np.zeros((V.shape[0],kk3),dtype=np.complex128)\n",
    "    Amplitude0=np.zeros(kk3)\n",
    "    for m in range(0,kk3):\n",
    "        NormMode=np.linalg.norm(np.dot(U,u[:,m]),ord=2)/np.sqrt(V.shape[0])\n",
    "        Amplitude0[m]=NormMode\n",
    "        DMDmode[:,m]=np.dot(U,u[:,m])/NormMode\n",
    "\n",
    "    return u,areal[mask],eigval[mask],delta[mask],omega[mask],DMDmode"
   ]
  },
  {
   "cell_type": "markdown",
   "metadata": {
    "id": "idBcDQ2ks8DL"
   },
   "source": [
    "Related to DMD-d"
   ]
  },
  {
   "cell_type": "code",
   "execution_count": 5,
   "metadata": {
    "executionInfo": {
     "elapsed": 27,
     "status": "ok",
     "timestamp": 1743769601179,
     "user": {
      "displayName": "Adrian Corrochano",
      "userId": "11116303941207144312"
     },
     "user_tz": -120
    },
    "id": "s4-2gXdRfT_1"
   },
   "outputs": [],
   "source": [
    "def truncatedSVD(A,esvd):\n",
    "    '''Decomposition into singular values, truncated on esvd'''\n",
    "    U,s,Wh=np.linalg.svd(A,full_matrices=False)\n",
    "    n=0\n",
    "    norm=np.linalg.norm(s)\n",
    "    for i in range(s.size):\n",
    "        if np.linalg.norm(s[i:])/norm<=esvd:\n",
    "            break\n",
    "        else:\n",
    "            n+=1\n",
    "    return U[:,:n],s[:n],Wh[:n,:]\n",
    "\n",
    "def hodmd_IT(Vvir,d,t,esvd,edmd):\n",
    "    '''High order (d) modal decomposition:\n",
    "        Input:\n",
    "            -V (IxJ): snapshot matrix.\n",
    "            -t (J): time vector.\n",
    "            -d: parameter of DMD-d, higher order Koopman assumption (int>=1).\n",
    "            -esvd: first tolerance (SVD).\n",
    "            -edmd: second tolerance (DMD-d modes).\n",
    "        Output:\n",
    "            -u (Ixn): mode matrix (columns) sorted from biggest to smallest amplitude, put to scale.\n",
    "            -areal (n): amplitude vector (sorted) used to put u to scale.\n",
    "            -eigval: eigenvalues\n",
    "            -delta (n): growth rate vector.\n",
    "            -omega (n): frequency vector.\n",
    "            -DMDmode: Modes'''\n",
    "    dt=t[1]-t[0]\n",
    "    N=Vvir.shape[0]\n",
    "    K=Vvir.shape[1]\n",
    "\n",
    "    #Reduced and grouped snapshots:\n",
    "    Vdot=np.zeros((d*N,Vvir.shape[1]-d+1),dtype=Vvir.dtype) #(d*n)*(J-d+1)\n",
    "    for j in range(d):\n",
    "        Vdot[j*N:(j+1)*N,:]=Vvir[:,j:Vvir.shape[1]-d+j+1]\n",
    "\n",
    "    #Reduced, grouped and again reduced snapshots:\n",
    "    Udot,sdot,Whdot=truncatedSVD(Vdot,esvd) #(d*n)*N, N*N, N*(J-d+1)\n",
    "    Vvd=np.diag(sdot)@Whdot #N*(J-d+1)\n",
    "\n",
    "    #Spatial dimension reduction:\n",
    "    print(f'Spatial dimension reduction: {np.size(sdot)}')\n",
    "\n",
    "    #Koopman matrix reconstruction:\n",
    "    Uvd,svd,Whvd=np.linalg.svd(Vvd[:,:-1],full_matrices=False) #N*r', r'*r', r'*(J-d)\n",
    "    Rvd=Vvd[:,1:]@Whvd.conj().T@np.diag(svd**-1)@Uvd.conj().T #r'*r'\n",
    "    eigval,eigvec=np.linalg.eig(Rvd) #r'*r'==N*N\n",
    "\n",
    "    #Frequencies and growthrate:\n",
    "    delta=np.log(eigval).real/dt #r'\n",
    "    omega=np.log(eigval).imag/dt #r'\n",
    "\n",
    "    #Modes\n",
    "    q=(Udot@eigvec)[(d-1)*N:d*N,:] #Taking steps back n*N\n",
    "    Uvir=q/np.linalg.norm(q,axis=0) #n*N\n",
    "\n",
    "\n",
    "    #Amplitudes:\n",
    "    A=np.zeros((Uvir.shape[0]*Vvir.shape[1],Uvir.shape[1]),dtype=np.complex128) #(n*J)*N\n",
    "\n",
    "    b=np.zeros(Uvir.shape[0]*Vvir.shape[1],dtype=Vvir.dtype)#(n*J)*1\n",
    "    for i in range(Vvir.shape[1]):\n",
    "        A[i*Uvir.shape[0]:(i+1)*Uvir.shape[0],:]=Uvir@np.diag(eigval**i)\n",
    "        b[i*Uvir.shape[0]:(i+1)*Uvir.shape[0]]=Vvir[:,i]\n",
    "\n",
    "    Ua,sa,Wa=np.linalg.svd(A,full_matrices=False) #(n*J)*N, N*N, N*N\n",
    "    a=Wa.conj().T@np.diag(sa**-1)@Ua.conj().T@b #N\n",
    "\n",
    "\n",
    "    #Modes\n",
    "    u=np.zeros((np.shape(Uvir)[0],np.size(eigval)),dtype=np.complex128)\n",
    "    for m in range(0,np.size(eigval)):\n",
    "        u[:,m]=np.dot(a[m],Uvir[:,m])\n",
    "\n",
    "    areal=np.zeros(np.size(eigval),dtype=np.complex128)\n",
    "    for mm in range(0,np.size(eigval)):\n",
    "        GR=delta[mm]\n",
    "        AmplGR=np.exp(np.dot(GR,t))\n",
    "        AmplN=np.linalg.norm(AmplGR,ord=2)/np.sqrt(K)\n",
    "        areal[mm]=np.dot(np.linalg.norm(u[:,mm],ord=2),AmplN)\n",
    "    areal=np.real(areal)\n",
    "\n",
    "    idx=np.flip(np.argsort(areal,axis=0))\n",
    "    u=u[:,idx]\n",
    "    areal=areal[idx]\n",
    "    eigval=eigval[idx]\n",
    "    delta=delta[idx]\n",
    "    omega=omega[idx]\n",
    "\n",
    "    #Spectral complexity:\n",
    "    kk3=0\n",
    "    for m in range(0,np.size(areal)):\n",
    "        if areal[m]/np.max(areal)>edmd:\n",
    "            kk3=kk3+1\n",
    "    print(f'Spectral complexity: {kk3}')\n",
    "\n",
    "    return u[:,0:kk3],areal[0:kk3],eigval[0:kk3],delta[0:kk3],omega[0:kk3]"
   ]
  },
  {
   "cell_type": "code",
   "execution_count": 6,
   "metadata": {
    "executionInfo": {
     "elapsed": 19,
     "status": "ok",
     "timestamp": 1743769695568,
     "user": {
      "displayName": "Adrian Corrochano",
      "userId": "11116303941207144312"
     },
     "user_tz": -120
    },
    "id": "4nVdP8gOOS7g"
   },
   "outputs": [],
   "source": [
    "def remakeTens_IT(t,t0,u,delta,omega):\n",
    "    '''Reconstructs original data from DMD-d results:\n",
    "        Input:\n",
    "            -u (Ixn): Mode matrix (columns).\n",
    "            -t (J): Time vector.\n",
    "            -delta (n): vector de ratios de crecimiento.\n",
    "            -omega (n): vector de frecuencias.\n",
    "            -mu: np.exp(np.dot((t[1]-t[0]),delta[iii]+np.dot(complex(0,1),omega[iii])))\n",
    "        Output:\n",
    "            -vrec (IxJ): reconstructed snapshots'''\n",
    "\n",
    "    dt=t-t0\n",
    "    icomp=complex(0,1)\n",
    "    mu=np.zeros(np.size(delta),dtype=np.complex128)\n",
    "    for iii in range(0,np.size(delta)):\n",
    "        mu[iii] = np.exp(np.dot(dt,delta[iii]+np.dot(icomp,omega[iii])))\n",
    "    return np.dot(u,mu)\n",
    "\n",
    "def reconst_IT(hatMode,Time,U,S,sv,nn,TimePos,GrowthRate,Frequency):\n",
    "    '''Reconstructs original data from DMD-d results.'''\n",
    "    N = np.shape(hatMode)[0]\n",
    "    K = matlen(Time)\n",
    "    hatTReconst = np.zeros((N,K), dtype=np.complex128)\n",
    "\n",
    "    # Reconstruction using the DMD expansion:\n",
    "    for k in range(0,K):\n",
    "        hatTReconst[:,k] = remakeTens_IT(Time[k],Time[0],hatMode,GrowthRate,Frequency)\n",
    "\n",
    "    # Reconstruction of the original tensor using the reduced tensor and the tensor core:\n",
    "    Unondim = U\n",
    "    UTnondim = np.zeros(shape=np.shape(U), dtype=object)\n",
    "    UTnondim[0][TimePos-1] = np.zeros((nn[TimePos-1],np.shape(hatTReconst)[1]),dtype=np.complex128)\n",
    "    for kk in range(0,nn[TimePos-1]):\n",
    "        UTnondim[0][TimePos-1][kk,:] = hatTReconst[kk,:]/sv[0][TimePos-1][kk]\n",
    "\n",
    "    Unondim[0][TimePos-1] = np.transpose(UTnondim[0][TimePos-1])\n",
    "    TensorReconst = tprod(S,Unondim)\n",
    "    return TensorReconst\n",
    "\n",
    "def modes_IT(N,hatMode,Amplitude,U,S,nn,TimePos):\n",
    "    '''Calculate DMD modes from results'''\n",
    "    hatMode_m = np.zeros((N,np.size(Amplitude)), dtype=hatMode.dtype)\n",
    "    for ii in range(0,np.size(Amplitude)):\n",
    "        hatMode_m[:,ii] = hatMode[:,ii]/Amplitude[ii]\n",
    "\n",
    "    ModesT = np.zeros((nn[TimePos-1],np.shape(hatMode_m)[1]), dtype=hatMode_m.dtype)\n",
    "    for kk in range(0,nn[TimePos-1]):\n",
    "        ModesT[kk,:] = hatMode_m[kk,:]\n",
    "\n",
    "    # Temporal DMD modes in reduced dimension:\n",
    "    Modes = U\n",
    "    Modes[0,TimePos-1] = np.transpose(ModesT)\n",
    "\n",
    "    # Reconstruction of the temporal DMD modes:\n",
    "    DMDmode = tprod(S,Modes)\n",
    "\n",
    "    return DMDmode"
   ]
  },
  {
   "cell_type": "code",
   "execution_count": 7,
   "metadata": {
    "executionInfo": {
     "elapsed": 32,
     "status": "ok",
     "timestamp": 1743769342222,
     "user": {
      "displayName": "Adrian Corrochano",
      "userId": "11116303941207144312"
     },
     "user_tz": -120
    },
    "id": "eCTm_xr5OkT1"
   },
   "outputs": [],
   "source": [
    "def remake(u,t,mu):\n",
    "    '''Reconstructs original data from DMD-d results:\n",
    "        Input:\n",
    "            -u (Ixn): Mode matrix (columns).\n",
    "            -t (J): Time vector.\n",
    "            -delta (n): vector de ratios de crecimiento.\n",
    "            -omega (n): vector de frecuencias.\n",
    "            -mu: np.exp(np.dot((t[1]-t[0]),delta[iii]+np.dot(complex(0,1),omega[iii])))\n",
    "        Output:\n",
    "            -vrec (IxJ): reconstructed snapshots'''\n",
    "\n",
    "    vrec=np.zeros((u.shape[0],t.size),dtype=np.complex128)\n",
    "    for i in range(t.size):\n",
    "        for j in range(mu.shape[0]):\n",
    "            vrec[:,i]+=u[:,j]*mu[j]**i\n",
    "    return vrec\n",
    "\n",
    "def remakeTens(u,t,mu):\n",
    "    '''Reconstructs original data from DMD-d results:\n",
    "        Input:\n",
    "            -u (Ixn): Mode matrix (columns).\n",
    "            -t (J): Time vector.\n",
    "            -delta (n): vector de ratios de crecimiento.\n",
    "            -omega (n): vector de frecuencias.\n",
    "            -mu: np.exp(np.dot((t[1]-t[0]),delta[iii]+np.dot(complex(0,1),omega[iii])))\n",
    "        Output:\n",
    "            -vrec (IxJ): reconstructed snapshots'''\n",
    "\n",
    "    shape=np.array(u.shape,dtype=np.int32)\n",
    "    shape[-1]=t.size\n",
    "    vrec=np.zeros(tuple(shape),dtype=np.complex128)\n",
    "    idx=[slice(None)]*shape.size\n",
    "    for i in range(t.size):\n",
    "        for j in range(u.shape[-1]):\n",
    "            idx[-1]=i\n",
    "            vrec[tuple(idx)]+=u.take(j,axis=-1)*mu[j]**i\n",
    "    return vrec"
   ]
  },
  {
   "cell_type": "markdown",
   "metadata": {
    "id": "p9cUJ1pcgPw_"
   },
   "source": [
    "# LOAD AND PROCESS DATA"
   ]
  },
  {
   "cell_type": "code",
   "execution_count": 8,
   "metadata": {
    "colab": {
     "base_uri": "https://localhost:8080/"
    },
    "executionInfo": {
     "elapsed": 21263,
     "status": "ok",
     "timestamp": 1743769363492,
     "user": {
      "displayName": "Adrian Corrochano",
      "userId": "11116303941207144312"
     },
     "user_tz": -120
    },
    "id": "B5gkMi0TgN0R",
    "outputId": "760fcac1-f21b-4667-a14a-9ae930b406f7"
   },
   "outputs": [
    {
     "name": "stderr",
     "output_type": "stream",
     "text": [
      "Retrieving folder contents\n"
     ]
    },
    {
     "name": "stdout",
     "output_type": "stream",
     "text": [
      "Processing file 1CA9q-RAff409xVOGD2DZtsYLf95BfyGM Tensor.mat\n",
      "Processing file 1socnlP5vBRpNz9vrUkgUv-54_5RmiAvz X.mat\n",
      "Processing file 1o1dcqmoDEV6UqtwfdS3i3FafLXX3X5Zb Y.mat\n"
     ]
    },
    {
     "name": "stderr",
     "output_type": "stream",
     "text": [
      "Retrieving folder contents completed\n",
      "Building directory structure\n",
      "Building directory structure completed\n",
      "Downloading...\n",
      "From (original): https://drive.google.com/uc?id=1CA9q-RAff409xVOGD2DZtsYLf95BfyGM\n",
      "From (redirected): https://drive.google.com/uc?id=1CA9q-RAff409xVOGD2DZtsYLf95BfyGM&confirm=t&uuid=8a0b6c0c-d84f-4d82-a76d-8f5cfe1547ec\n",
      "To: /Users/pablolopezsalazar/Documents/Python/Código Colab/Test Case/Tensor.mat\n",
      "100%|██████████| 99.3M/99.3M [00:12<00:00, 8.14MB/s]\n",
      "Downloading...\n",
      "From (original): https://drive.google.com/uc?id=1socnlP5vBRpNz9vrUkgUv-54_5RmiAvz\n",
      "From (redirected): https://drive.google.com/uc?id=1socnlP5vBRpNz9vrUkgUv-54_5RmiAvz&confirm=t&uuid=cd118b4d-eaa1-404a-a7d1-899e227b299e\n",
      "To: /Users/pablolopezsalazar/Documents/Python/Código Colab/Test Case/X.mat\n",
      "100%|██████████| 8.23k/8.23k [00:00<00:00, 8.79MB/s]\n",
      "Downloading...\n",
      "From (original): https://drive.google.com/uc?id=1o1dcqmoDEV6UqtwfdS3i3FafLXX3X5Zb\n",
      "From (redirected): https://drive.google.com/uc?id=1o1dcqmoDEV6UqtwfdS3i3FafLXX3X5Zb&confirm=t&uuid=ad95376d-e924-4a83-8d4a-296a09ab28d7\n",
      "To: /Users/pablolopezsalazar/Documents/Python/Código Colab/Test Case/Y.mat\n",
      "100%|██████████| 11.3k/11.3k [00:00<00:00, 3.76MB/s]\n",
      "Download completed\n"
     ]
    },
    {
     "name": "stdout",
     "output_type": "stream",
     "text": [
      "\n",
      "Loading the dataset...\n",
      "\n",
      "Dataset loaded!\n"
     ]
    }
   ],
   "source": [
    "gdown.download_folder(\"https://drive.google.com/drive/folders/1eaL945MC46rwhsft72LE_GtSCl15ugB4\", output=\"./\")\n",
    "\n",
    "print('\\nLoading the dataset...')\n",
    "f = mat73.loadmat('./Test Case/Tensor.mat')\n",
    "Tensor = f['Tensor']\n",
    "print('\\nDataset loaded!')\n",
    "\n",
    "TimePos = Tensor.ndim  # Here the position of the temporal dimension is introduced\n",
    "\n",
    "SNAP = int(Tensor.shape[-1])  # Change SNAP to reduce number of snapshots\n",
    "Tensor = Tensor[..., 0:SNAP]\n",
    "\n",
    "dims = Tensor.ndim\n",
    "shape = Tensor.shape\n",
    "\n",
    "f = mat73.loadmat('./Test Case/X.mat')  # Load the mesh for the calculation of the structural sensitivity\n",
    "X = f['X']\n",
    "f = mat73.loadmat('./Test Case/Y.mat')\n",
    "Y = f['Y']\n",
    "\n",
    "Malla = np.stack((X,Y), axis = 0)"
   ]
  },
  {
   "cell_type": "markdown",
   "metadata": {
    "id": "_3Btz_hCgvGP"
   },
   "source": [
    "# HODMD"
   ]
  },
  {
   "cell_type": "code",
   "execution_count": 9,
   "metadata": {
    "colab": {
     "base_uri": "https://localhost:8080/"
    },
    "executionInfo": {
     "elapsed": 5,
     "status": "ok",
     "timestamp": 1743769363500,
     "user": {
      "displayName": "Adrian Corrochano",
      "userId": "11116303941207144312"
     },
     "user_tz": -120
    },
    "id": "GGvn36YnhEBb",
    "outputId": "5cb8ab17-8c71-497f-d868-07190aeb88ca"
   },
   "outputs": [
    {
     "name": "stdout",
     "output_type": "stream",
     "text": [
      "\n",
      "-----------------------------\n",
      "HODMD summary:\n",
      "\n",
      "Number of snapshots set at: 200\n",
      "d Parameter set at: 50\n",
      "Tolerances set at 0.001 for SVD and 0.0001 for HODMD\n",
      "Time gradient set at deltaT: 1\n",
      "\n",
      "-----------------------------\n"
     ]
    }
   ],
   "source": [
    "# CALIBRATION\n",
    "\n",
    "d = 50              # Number of HODMD windows\n",
    "varepsilon1 = 1e-3  # Tolerance to truncate the number of SVD modes retained\n",
    "varepsilon  = 1e-4  # Tolerance to truncate the number of DMD modes retained\n",
    "deltaT = 1          # Time step of the database\n",
    "\n",
    "print('\\n-----------------------------')\n",
    "print('HODMD summary:')\n",
    "print('\\n' + f'Number of snapshots set at: {SNAP}')\n",
    "print(f'd Parameter set at: {d}')\n",
    "print(f'Tolerances set at {varepsilon1} for SVD and {varepsilon} for HODMD')\n",
    "print(f'Time gradient set at deltaT: {deltaT}')\n",
    "print('\\n-----------------------------')\n"
   ]
  },
  {
   "cell_type": "markdown",
   "metadata": {
    "id": "4Ngn2tn6txVc"
   },
   "source": [
    "# First step: Clean the data\n",
    "\n",
    "(default: the mean and the first two modes with the highest amplitude)"
   ]
  },
  {
   "cell_type": "code",
   "execution_count": 10,
   "metadata": {
    "colab": {
     "base_uri": "https://localhost:8080/"
    },
    "executionInfo": {
     "elapsed": 29555,
     "status": "ok",
     "timestamp": 1743769732670,
     "user": {
      "displayName": "Adrian Corrochano",
      "userId": "11116303941207144312"
     },
     "user_tz": -120
    },
    "id": "ENiO2JbshNj1",
    "outputId": "3e18e596-ebb9-4527-eed9-e2c9f2a00edd"
   },
   "outputs": [
    {
     "name": "stdout",
     "output_type": "stream",
     "text": [
      "Performing HOSVD. Please wait...\n",
      "\n",
      "Initial number of singular values: [  2 151 216 200]\n",
      "Number of singular values retained: [2, 15, 18, 7]\n",
      "\n",
      "HOSVD complete!\n",
      "\n"
     ]
    },
    {
     "name": "stderr",
     "output_type": "stream",
     "text": [
      "/var/folders/7j/kcyj8x3j2b5_j6p2jr6h_ltw0000gn/T/ipykernel_24631/710880688.py:105: DeprecationWarning: `newshape` keyword argument is deprecated, use `shape=...` or pass shape positionally instead. (deprecated in NumPy 2.1)\n",
      "  hatT = np.reshape(hatT, newshape=(len(hatT),np.size(hatT[0])))\n",
      "/var/folders/7j/kcyj8x3j2b5_j6p2jr6h_ltw0000gn/T/ipykernel_24631/2839010404.py:12: DeprecationWarning: `newshape` keyword argument is deprecated, use `shape=...` or pass shape positionally instead. (deprecated in NumPy 2.1)\n",
      "  RRMSE = np.linalg.norm(np.reshape(Tensor-TT,newshape=(np.size(Tensor),1)),ord=2)/np.linalg.norm(np.reshape(Tensor,newshape=(np.size(Tensor),1)))\n"
     ]
    },
    {
     "name": "stdout",
     "output_type": "stream",
     "text": [
      "Relative mean square error for HOSVD: 0.209%\n",
      "\n",
      "Performing HODMD. Please wait...\n",
      "\n",
      "Spatial dimension reduction: 7\n",
      "Spectral complexity: 7\n",
      "\n",
      "HODMD complete!\n",
      "\n"
     ]
    },
    {
     "name": "stderr",
     "output_type": "stream",
     "text": [
      "/var/folders/7j/kcyj8x3j2b5_j6p2jr6h_ltw0000gn/T/ipykernel_24631/2839010404.py:30: DeprecationWarning: `newshape` keyword argument is deprecated, use `shape=...` or pass shape positionally instead. (deprecated in NumPy 2.1)\n",
      "  RRMSE = np.linalg.norm(np.reshape(Tensor-TT,newshape=(np.size(Tensor),1)),ord=2)/np.linalg.norm(np.reshape(Tensor,newshape=(np.size(Tensor),1)))\n"
     ]
    },
    {
     "name": "stdout",
     "output_type": "stream",
     "text": [
      "Relative mean square error for HODMD: 0.209%\n",
      "\n"
     ]
    }
   ],
   "source": [
    "# PERFORM HODMD\n",
    "Time = np.linspace(0,SNAP-1,num=SNAP)*deltaT\n",
    "\n",
    "nn0 = np.array(Tensor.shape)\n",
    "nn = np.array(nn0)\n",
    "nn[1:np.size(nn)] = 0\n",
    "\n",
    "print('Performing HOSVD. Please wait...\\n')\n",
    "hatT, U, S, sv, nn1, n, TT = HOSVD(Tensor, varepsilon1, nn, nn0, TimePos)\n",
    "print('\\nHOSVD complete!\\n')\n",
    "\n",
    "RRMSE = np.linalg.norm(np.reshape(Tensor-TT,newshape=(np.size(Tensor),1)),ord=2)/np.linalg.norm(np.reshape(Tensor,newshape=(np.size(Tensor),1)))\n",
    "print(f'Relative mean square error for HOSVD: {np.round(RRMSE*100, 3)}%\\n')\n",
    "\n",
    "## Perform HODMD to the reduced temporal matrix hatT:\n",
    "print('Performing HODMD. Please wait...\\n')\n",
    "[hatMode,Amplitude,Eigval,GrowthRate,Frequency] = hodmd_IT(hatT,d,Time,varepsilon1,varepsilon)\n",
    "print('\\nHODMD complete!\\n')\n",
    "\n",
    "## Reconstruct the original Tensor using the DMD expansion:\n",
    "TensorReconst = reconst_IT(hatMode[:,:3],Time,U,S,sv,nn1,TimePos,GrowthRate[:3],Frequency[:3])\n",
    "nn10 = nn1\n",
    "\n",
    "N = np.shape(hatT)[0]\n",
    "DMDmode0 = modes_IT(N,hatMode,Amplitude,U,S,nn1,TimePos)\n",
    "\n",
    "GrowthrateFrequencyAmplitude0 = np.array([GrowthRate, Frequency, Amplitude])\n",
    "TT0 = np.real(TensorReconst)\n",
    "\n",
    "RRMSE = np.linalg.norm(np.reshape(Tensor-TT,newshape=(np.size(Tensor),1)),ord=2)/np.linalg.norm(np.reshape(Tensor,newshape=(np.size(Tensor),1)))\n",
    "print(f'Relative mean square error for HODMD: {np.round(RRMSE*100, 3)}%\\n')"
   ]
  },
  {
   "cell_type": "markdown",
   "metadata": {
    "id": "zjbxso1uvPRn"
   },
   "source": [
    "# Second step: direct HODMD"
   ]
  },
  {
   "cell_type": "code",
   "execution_count": 11,
   "metadata": {
    "colab": {
     "base_uri": "https://localhost:8080/"
    },
    "executionInfo": {
     "elapsed": 14702,
     "status": "ok",
     "timestamp": 1743769751262,
     "user": {
      "displayName": "Adrian Corrochano",
      "userId": "11116303941207144312"
     },
     "user_tz": -120
    },
    "id": "5zzWLIgWhbhr",
    "outputId": "dd28255e-6570-46c7-8602-0685e89b438c"
   },
   "outputs": [
    {
     "name": "stdout",
     "output_type": "stream",
     "text": [
      "Performing HOSVD. Please wait...\n",
      "\n",
      "Initial number of singular values: [  2 151 216 200]\n",
      "Number of singular values retained: [2, 14, 12, 3]\n",
      "\n",
      "HOSVD complete!\n",
      "\n",
      "Performing HODMD. Please wait...\n",
      "\n",
      "Spatial dimension reduction: 3\n",
      "Spectral complexity: 3\n",
      "\n",
      "HODMD complete!\n",
      "\n"
     ]
    },
    {
     "name": "stderr",
     "output_type": "stream",
     "text": [
      "/var/folders/7j/kcyj8x3j2b5_j6p2jr6h_ltw0000gn/T/ipykernel_24631/710880688.py:105: DeprecationWarning: `newshape` keyword argument is deprecated, use `shape=...` or pass shape positionally instead. (deprecated in NumPy 2.1)\n",
      "  hatT = np.reshape(hatT, newshape=(len(hatT),np.size(hatT[0])))\n"
     ]
    }
   ],
   "source": [
    "print('Performing HOSVD. Please wait...\\n')\n",
    "hatT, U, S, sv, nn1, n, TT = HOSVD(TT0, varepsilon1, nn, nn0, TimePos)\n",
    "print('\\nHOSVD complete!\\n')\n",
    "\n",
    "## Perform HODMD to the reduced temporal matrix hatT:\n",
    "print('Performing HODMD. Please wait...\\n')\n",
    "[hatMode,Amplitude,Eigval,GrowthRate,Frequency] = hodmd_IT(hatT,d,Time,varepsilon1,varepsilon)\n",
    "print('\\nHODMD complete!\\n')\n",
    "\n",
    "## Reconstruct the original Tensor using the DMD expansion:\n",
    "TensorReconst = reconst_IT(hatMode[:,:3],Time,U,S,sv,nn1,TimePos,GrowthRate[:3],Frequency[:3])\n",
    "nn10 = nn1\n",
    "\n",
    "N = np.shape(hatT)[0]\n",
    "DMDmodeDIR = modes_IT(N,hatMode,Amplitude,U,S,nn1,TimePos)\n",
    "\n",
    "GrowthrateFrequencyAmplitudeDIR = np.array([GrowthRate, Frequency, Amplitude])\n",
    "TTDIR = np.real(TensorReconst)"
   ]
  },
  {
   "cell_type": "markdown",
   "metadata": {
    "id": "MiejM4sOvb8U"
   },
   "source": [
    "# Third step: adjoint HODMD"
   ]
  },
  {
   "cell_type": "code",
   "execution_count": 12,
   "metadata": {
    "colab": {
     "base_uri": "https://localhost:8080/"
    },
    "executionInfo": {
     "elapsed": 14669,
     "status": "ok",
     "timestamp": 1743769785916,
     "user": {
      "displayName": "Adrian Corrochano",
      "userId": "11116303941207144312"
     },
     "user_tz": -120
    },
    "id": "bYGeRK4dhhx6",
    "outputId": "015a6ccf-19bb-47cc-d5cc-a6b2f5607863"
   },
   "outputs": [
    {
     "name": "stdout",
     "output_type": "stream",
     "text": [
      "Performing HOSVD. Please wait...\n",
      "\n",
      "Initial number of singular values: [  2 151 216 200]\n",
      "Number of singular values retained: [2, 13, 13, 3]\n",
      "\n",
      "HOSVD complete!\n",
      "\n",
      "Performing HODMD. Please wait...\n",
      "\n",
      "Spatial dimension reduction: 3\n",
      "Spectral complexity: 3\n",
      "\n",
      "HODMD complete!\n",
      "\n"
     ]
    },
    {
     "name": "stderr",
     "output_type": "stream",
     "text": [
      "/var/folders/7j/kcyj8x3j2b5_j6p2jr6h_ltw0000gn/T/ipykernel_24631/710880688.py:105: DeprecationWarning: `newshape` keyword argument is deprecated, use `shape=...` or pass shape positionally instead. (deprecated in NumPy 2.1)\n",
      "  hatT = np.reshape(hatT, newshape=(len(hatT),np.size(hatT[0])))\n"
     ]
    }
   ],
   "source": [
    "Media = np.mean(TT0,axis=TimePos-1)\n",
    "TensorR = np.zeros(TT0.shape)\n",
    "\n",
    "for nsnap in range(SNAP):\n",
    "    TensorR[...,nsnap] = TT0[...,(SNAP-1)-nsnap] - Media\n",
    "\n",
    "print('Performing HOSVD. Please wait...\\n')\n",
    "hatT, U, S, sv, nn1, n, TT = HOSVD(TensorR, varepsilon1, nn, nn0, TimePos)\n",
    "print('\\nHOSVD complete!\\n')\n",
    "\n",
    "## Perform HODMD to the reduced temporal matrix hatT:\n",
    "print('Performing HODMD. Please wait...\\n')\n",
    "[hatMode,Amplitude,Eigval,GrowthRate,Frequency] = hodmd_IT(hatT,d,Time,varepsilon1,varepsilon)\n",
    "print('\\nHODMD complete!\\n')\n",
    "\n",
    "## Reconstruct the original Tensor using the DMD expansion:\n",
    "TensorReconst = reconst_IT(hatMode[:,:3],Time,U,S,sv,nn1,TimePos,GrowthRate[:3],Frequency[:3])\n",
    "nn10 = nn1\n",
    "\n",
    "N = np.shape(hatT)[0]\n",
    "DMDmodeADJ = modes_IT(N,hatMode,Amplitude,U,S,nn1,TimePos)\n",
    "\n",
    "GrowthrateFrequencyAmplitudeADJ = np.array([GrowthRate, Frequency, Amplitude])\n",
    "TTADJ = np.real(TensorReconst)"
   ]
  },
  {
   "cell_type": "markdown",
   "metadata": {
    "id": "0ShZLjYYvlgH"
   },
   "source": [
    "# Fourth step: non-linear structural sensitivity"
   ]
  },
  {
   "cell_type": "code",
   "execution_count": 13,
   "metadata": {
    "colab": {
     "base_uri": "https://localhost:8080/"
    },
    "executionInfo": {
     "elapsed": 24,
     "status": "ok",
     "timestamp": 1743769791074,
     "user": {
      "displayName": "Adrian Corrochano",
      "userId": "11116303941207144312"
     },
     "user_tz": -120
    },
    "id": "83PdAe2DRkIL",
    "outputId": "1692bf8b-47c4-4e22-ce11-930ea11cf3a9"
   },
   "outputs": [
    {
     "name": "stdout",
     "output_type": "stream",
     "text": [
      "The maximum value of the sensititvuity locates at: X  = 6.813627254509019 Y = 0.1903807615230461 \n"
     ]
    }
   ],
   "source": [
    "mode0 = DMDmodeDIR[...,0]\n",
    "moded = DMDmodeDIR[...,1]\n",
    "modea = DMDmodeADJ[...,0]\n",
    "\n",
    "vector_x = Malla[0,0,:]\n",
    "vector_y = Malla[1,:,0]\n",
    "if vector_x[0] == vector_x[1]:\n",
    "    vector_x = Malla[0,:,0]\n",
    "    vector_y = Malla[1,0,:]\n",
    "\n",
    "grad0 = np.gradient(mode0, vector_y,  vector_x, axis=(1,2))\n",
    "grad0 = np.array(grad0).transpose((1,0,2,3))\n",
    "\n",
    "Part1 = np.zeros(Malla.shape,dtype = np.complex128)\n",
    "Part1[0,:,:] = mode0[0,:,:]*grad0[0,0,:,:]+mode0[1,:,:]*grad0[0,1,:,:]\n",
    "Part1[1,:,:] = mode0[0,:,:]*grad0[1,0,:,:]+mode0[1,:,:]*grad0[1,1,:,:]\n",
    "\n",
    "ff1 = np.linalg.norm(Part1,axis = 0)\n",
    "\n",
    "gradd = np.gradient(moded, vector_y, vector_x, axis=(1,2))\n",
    "gradd = np.array(gradd).transpose((1,0,2,3))\n",
    "\n",
    "PartD = np.zeros(Malla.shape,dtype = np.complex128)\n",
    "PartD[0,:,:] = moded[0,:,:]*gradd[0,0,:,:]+moded[1,:,:]*gradd[0,1,:,:]\n",
    "PartD[1,:,:] = moded[0,:,:]*gradd[1,0,:,:]+moded[1,:,:]*gradd[1,1,:,:]\n",
    "\n",
    "\n",
    "grada = np.gradient(modea, vector_y, vector_x, axis=(1,2))\n",
    "grada = np.array(grada).transpose((1,0,2,3))\n",
    "\n",
    "PartA = np.zeros(Malla.shape,dtype = np.complex128)\n",
    "PartA[0,:,:] = modea[0,:,:]*grada[0,0,:,:]+modea[1,:,:]*grada[0,1,:,:]\n",
    "PartA[1,:,:] = modea[0,:,:]*grada[1,0,:,:]+modea[1,:,:]*grada[1,1,:,:]\n",
    "\n",
    "ff2= np.sqrt((abs(PartD[0,:,:])**2+abs(PartD[1,:,:])**2)*(abs(PartA[0,:,:])**2+abs(PartA[1,:,:])**2))\n",
    "\n",
    "NLSens = np.abs(GrowthrateFrequencyAmplitudeADJ[1,1])* np.real(ff1)/np.amax(np.real(ff1)) + 2*ff2/np.amax(ff2)\n",
    "\n",
    "index = np.argwhere(NLSens == np.amax(NLSens))\n",
    "X_index = Malla[0,index[0,0],index[0,1]]\n",
    "Y_index = Malla[1,index[0,0],index[0,1]]\n",
    "print(f'The maximum value of the sensititvuity locates at: X  = {X_index} Y = {Y_index} ')"
   ]
  },
  {
   "cell_type": "markdown",
   "metadata": {
    "id": "WrECHfmvvuod"
   },
   "source": [
    "# Plots\n",
    "\n",
    "Plot amplitude and growth rate vs frequencies spectrum"
   ]
  },
  {
   "cell_type": "code",
   "execution_count": null,
   "metadata": {
    "colab": {
     "base_uri": "https://localhost:8080/",
     "height": 542
    },
    "executionInfo": {
     "elapsed": 787,
     "status": "ok",
     "timestamp": 1743769796136,
     "user": {
      "displayName": "Adrian Corrochano",
      "userId": "11116303941207144312"
     },
     "user_tz": -120
    },
    "id": "s-yKICQsvzsN",
    "outputId": "c5d8619e-e960-4b58-ab2f-372fadc12813"
   },
   "outputs": [
    {
     "name": "stderr",
     "output_type": "stream",
     "text": [
      "/var/folders/7j/kcyj8x3j2b5_j6p2jr6h_ltw0000gn/T/ipykernel_24631/4215868322.py:13: UserWarning: Data has no positive values, and therefore cannot be log-scaled.\n",
      "  axes[1].set_yscale(\"log\")\n"
     ]
    },
    {
     "data": {
      "image/png": "[encoded data removed]",
      "text/plain": [
       "<Figure size 1200x500 with 2 Axes>"
      ]
     },
     "metadata": {},
     "output_type": "display_data"
    }
   ],
   "source": [
    "fig_spec, axes = plt.subplots(1, 2, figsize=(12, 5))\n",
    "\n",
    "axes[0].plot(Frequency, Amplitude / np.max(Amplitude), marker='o', color='b', linestyle='', markersize=6)\n",
    "axes[0].set_yscale(\"log\")\n",
    "axes[0].set_xlabel(\"Frequency\", fontsize=14)\n",
    "axes[0].set_ylabel(\"Amplitude\", fontsize=14)\n",
    "axes[0].grid(True, which=\"both\", linestyle=\"--\", alpha=0.6)\n",
    "axes[0].spines[\"top\"].set_visible(True)\n",
    "axes[0].spines[\"right\"].set_visible(True)\n",
    "\n",
    "# Growth Rate vs Frequency\n",
    "axes[1].plot(Frequency, np.abs(GrowthRate), marker='o', color='r', linestyle='', markersize=6)\n",
    "axes[1].set_yscale(\"log\")\n",
    "axes[1].set_xlabel(\"Frequency\", fontsize=14)\n",
    "axes[1].set_ylabel(\"Growth Rate\", fontsize=14)\n",
    "axes[1].grid(True, which=\"both\", linestyle=\"--\", alpha=0.6)\n",
    "axes[1].spines[\"top\"].set_visible(True)\n",
    "axes[1].spines[\"right\"].set_visible(True)\n",
    "\n",
    "plt.tight_layout()\n",
    "plt.show()"
   ]
  },
  {
   "cell_type": "markdown",
   "metadata": {
    "id": "zHhGMkYkv238"
   },
   "source": [
    "Plot Modes"
   ]
  },
  {
   "cell_type": "code",
   "execution_count": 15,
   "metadata": {
    "colab": {
     "base_uri": "https://localhost:8080/",
     "height": 1000
    },
    "executionInfo": {
     "elapsed": 337,
     "status": "ok",
     "timestamp": 1743769818818,
     "user": {
      "displayName": "Adrian Corrochano",
      "userId": "11116303941207144312"
     },
     "user_tz": -120
    },
    "id": "tMfkrg-hv5p0",
    "outputId": "a2914de4-6279-4263-dafa-69ae1d58a990"
   },
   "outputs": [
    {
     "name": "stderr",
     "output_type": "stream",
     "text": [
      "/var/folders/7j/kcyj8x3j2b5_j6p2jr6h_ltw0000gn/T/ipykernel_24631/1588671933.py:3: UserWarning: The following kwargs were not used by contour: 'shading'\n",
      "  im = plt.contourf(X, Y, np.real(moded[0,:,:]), cmap=\"viridis\", shading=\"auto\")\n"
     ]
    },
    {
     "data": {
      "image/png": "[encoded data removed]",
      "text/plain": [
       "<Figure size 640x480 with 1 Axes>"
      ]
     },
     "metadata": {},
     "output_type": "display_data"
    },
    {
     "name": "stderr",
     "output_type": "stream",
     "text": [
      "/var/folders/7j/kcyj8x3j2b5_j6p2jr6h_ltw0000gn/T/ipykernel_24631/1588671933.py:13: UserWarning: The following kwargs were not used by contour: 'shading'\n",
      "  im = ax0.contourf(X, Y, np.real(modea[0,:,:]), cmap=\"viridis\", shading=\"auto\")\n"
     ]
    },
    {
     "data": {
      "image/png": "[encoded data removed]",
      "text/plain": [
       "<Figure size 640x480 with 1 Axes>"
      ]
     },
     "metadata": {},
     "output_type": "display_data"
    }
   ],
   "source": [
    "##### Plot direct mode #####\n",
    "fig_dir, ax = plt.subplots()\n",
    "im = plt.contourf(X, Y, np.real(moded[0,:,:]), cmap=\"viridis\", shading=\"auto\")\n",
    "ax.set_title(f\"Direct\", fontsize=14)\n",
    "ax.set_xlabel(\"X\", fontsize=14)\n",
    "ax.set_ylabel(\"Y\", fontsize=14)\n",
    "\n",
    "plt.tight_layout()\n",
    "plt.show()\n",
    "\n",
    "##### Plot adjoint mode #####\n",
    "fig_adj, ax0 =  plt.subplots()\n",
    "im = ax0.contourf(X, Y, np.real(modea[0,:,:]), cmap=\"viridis\", shading=\"auto\")\n",
    "ax0.set_title(f\"Adjoint\", fontsize=14)\n",
    "ax0.set_xlabel(\"X\", fontsize=14)\n",
    "ax0.set_ylabel(\"Y\", fontsize=14)\n",
    "\n",
    "plt.tight_layout()\n",
    "plt.show()"
   ]
  },
  {
   "cell_type": "markdown",
   "metadata": {
    "id": "-0iB-cxhv8CS"
   },
   "source": [
    "Plot non-linear structural sensitivity"
   ]
  },
  {
   "cell_type": "code",
   "execution_count": 16,
   "metadata": {
    "colab": {
     "base_uri": "https://localhost:8080/",
     "height": 1000
    },
    "executionInfo": {
     "elapsed": 457,
     "status": "ok",
     "timestamp": 1743769821317,
     "user": {
      "displayName": "Adrian Corrochano",
      "userId": "11116303941207144312"
     },
     "user_tz": -120
    },
    "id": "H20J3m6Fv_lx",
    "outputId": "bcdf2d45-a032-470b-dda0-f7a0d24d057b"
   },
   "outputs": [
    {
     "data": {
      "image/png": "[encoded data removed]",
      "text/plain": [
       "<Figure size 640x480 with 1 Axes>"
      ]
     },
     "metadata": {},
     "output_type": "display_data"
    },
    {
     "data": {
      "image/png": "[encoded data removed]",
      "text/plain": [
       "<Figure size 640x480 with 1 Axes>"
      ]
     },
     "metadata": {},
     "output_type": "display_data"
    },
    {
     "data": {
      "image/png": "[encoded data removed]",
      "text/plain": [
       "<Figure size 640x480 with 1 Axes>"
      ]
     },
     "metadata": {},
     "output_type": "display_data"
    }
   ],
   "source": [
    "##### Plot first term #####\n",
    "fig_MM,ax = plt.subplots()\n",
    "plt.contourf(Malla[0,:,:],Malla[1,:,:],np.real(ff1)/np.amax(np.real(ff1)))\n",
    "plt.title('||M||*||M||')\n",
    "plt.tight_layout()\n",
    "plt.show()\n",
    "\n",
    "##### Plot second term #####\n",
    "fig_NN,ax =  plt.subplots()\n",
    "plt.contourf(Malla[0,:,:],Malla[1,:,:],ff2/np.amax(ff2))\n",
    "plt.title('||N||*||N*||')\n",
    "plt.tight_layout()\n",
    "plt.show()\n",
    "\n",
    "##### Plot non-linear structural sensitivity #####\n",
    "fig_NL,ax =  plt.subplots()\n",
    "plt.contourf(Malla[0,:,:],Malla[1,:,:],NLSens)\n",
    "plt.tight_layout()\n",
    "plt.show()\n"
   ]
  }
 ],
 "metadata": {
  "colab": {
   "provenance": []
  },
  "kernelspec": {
   "display_name": "lib",
   "language": "python",
   "name": "python3"
  },
  "language_info": {
   "codemirror_mode": {
    "name": "ipython",
    "version": 3
   },
   "file_extension": ".py",
   "mimetype": "text/x-python",
   "name": "python",
   "nbconvert_exporter": "python",
   "pygments_lexer": "ipython3",
   "version": "3.13.2"
  }
 },
 "nbformat": 4,
 "nbformat_minor": 0
}
